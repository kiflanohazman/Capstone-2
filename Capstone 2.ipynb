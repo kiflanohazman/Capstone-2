{
 "cells": [
  {
   "cell_type": "code",
   "execution_count": 1,
   "metadata": {},
   "outputs": [],
   "source": [
    "import pandas as pd\n",
    "import numpy as np\n",
    "import matplotlib.pyplot as plt\n",
    "import seaborn as sns"
   ]
  },
  {
   "cell_type": "markdown",
   "metadata": {},
   "source": [
    "# Analisis Dataset Airbnb Bangkok\n",
    "\n",
    "**Latar Belakang** \n",
    "\n",
    "Airbnb adalah sebuah platform online yang memfasilitasi penyewaan tempat tinggal sementara. Melalui situs web dan aplikasi mereka, pengguna dapat mencari dan memesan berbagai jenis tempat menginap, seperti rumah, apartemen, kamar, atau bahkan villa.\n",
    "\n",
    "Para pemilik properti, yang disebut \"host,\" dapat mendaftarkan tempat mereka di Airbnb dan menentukan harga serta aturan sewa. Sementara itu, tamu dapat melihat ulasan dari tamu sebelumnya, melihat foto, dan membandingkan berbagai pilihan sebelum memutuskan tempat menginap.\n",
    "\n",
    "**Permasalahan**\n",
    "\n",
    "Airbnb memperoleh pendapatan utamanya melalui biaya layanan yang dikenakan kepada tamu dan tuan rumah. Biaya ini biasanya merupakan persentase dari total biaya sewa, yang membantu platform ini untuk menutupi biaya operasional dan memberikan layanan kepada pengguna. Oleh karena itu, untuk meningkatkan pendapatan, penting bagi Airbnb untuk meningkatkan jumlah pemesanan. Semakin banyak pemesanan yang dilakukan, semakin banyak biaya layanan yang dapat diperoleh.\n",
    "\n",
    "Analisis data ini berguna untuk membantu pihak Airbnb dan \"host\", untuk meningkatkan jumlah pemesanan dengan menganalisis preferensi pengguna, berikut merupakan pertanyaan yang ingin dijawab dalam analisis ini:\n",
    "1. Apa saja faktor yang mempengaruhi harga sewa di Bangkok?\n",
    "2. Bagaimana preferensi pengguna dalam memesan tempat tinggal di Bangkok?"
   ]
  },
  {
   "cell_type": "markdown",
   "metadata": {},
   "source": [
    "# 1. Data Understanding dan Data Cleaning"
   ]
  },
  {
   "cell_type": "markdown",
   "metadata": {},
   "source": [
    "Dalam bagian ini data yang ada dipelajari dan dibersihkan untuk analisis data."
   ]
  },
  {
   "cell_type": "markdown",
   "metadata": {},
   "source": [
    "## 1.1. Membaca Data"
   ]
  },
  {
   "cell_type": "markdown",
   "metadata": {},
   "source": [
    "Membaca data dari file csv dengan dataframe dan informasi datanya."
   ]
  },
  {
   "cell_type": "code",
   "execution_count": 2,
   "metadata": {},
   "outputs": [
    {
     "data": {
      "text/html": [
       "<div>\n",
       "<style scoped>\n",
       "    .dataframe tbody tr th:only-of-type {\n",
       "        vertical-align: middle;\n",
       "    }\n",
       "\n",
       "    .dataframe tbody tr th {\n",
       "        vertical-align: top;\n",
       "    }\n",
       "\n",
       "    .dataframe thead th {\n",
       "        text-align: right;\n",
       "    }\n",
       "</style>\n",
       "<table border=\"1\" class=\"dataframe\">\n",
       "  <thead>\n",
       "    <tr style=\"text-align: right;\">\n",
       "      <th></th>\n",
       "      <th>Unnamed: 0</th>\n",
       "      <th>id</th>\n",
       "      <th>name</th>\n",
       "      <th>host_id</th>\n",
       "      <th>host_name</th>\n",
       "      <th>neighbourhood</th>\n",
       "      <th>latitude</th>\n",
       "      <th>longitude</th>\n",
       "      <th>room_type</th>\n",
       "      <th>price</th>\n",
       "      <th>minimum_nights</th>\n",
       "      <th>number_of_reviews</th>\n",
       "      <th>last_review</th>\n",
       "      <th>reviews_per_month</th>\n",
       "      <th>calculated_host_listings_count</th>\n",
       "      <th>availability_365</th>\n",
       "      <th>number_of_reviews_ltm</th>\n",
       "    </tr>\n",
       "  </thead>\n",
       "  <tbody>\n",
       "    <tr>\n",
       "      <th>0</th>\n",
       "      <td>0</td>\n",
       "      <td>27934</td>\n",
       "      <td>Nice room with superb city view</td>\n",
       "      <td>120437</td>\n",
       "      <td>Nuttee</td>\n",
       "      <td>Ratchathewi</td>\n",
       "      <td>13.75983</td>\n",
       "      <td>100.54134</td>\n",
       "      <td>Entire home/apt</td>\n",
       "      <td>1905</td>\n",
       "      <td>3</td>\n",
       "      <td>65</td>\n",
       "      <td>2020-01-06</td>\n",
       "      <td>0.50</td>\n",
       "      <td>2</td>\n",
       "      <td>353</td>\n",
       "      <td>0</td>\n",
       "    </tr>\n",
       "    <tr>\n",
       "      <th>1</th>\n",
       "      <td>1</td>\n",
       "      <td>27979</td>\n",
       "      <td>Easy going landlord,easy place</td>\n",
       "      <td>120541</td>\n",
       "      <td>Emy</td>\n",
       "      <td>Bang Na</td>\n",
       "      <td>13.66818</td>\n",
       "      <td>100.61674</td>\n",
       "      <td>Private room</td>\n",
       "      <td>1316</td>\n",
       "      <td>1</td>\n",
       "      <td>0</td>\n",
       "      <td>NaN</td>\n",
       "      <td>NaN</td>\n",
       "      <td>2</td>\n",
       "      <td>358</td>\n",
       "      <td>0</td>\n",
       "    </tr>\n",
       "    <tr>\n",
       "      <th>2</th>\n",
       "      <td>2</td>\n",
       "      <td>28745</td>\n",
       "      <td>modern-style apartment in Bangkok</td>\n",
       "      <td>123784</td>\n",
       "      <td>Familyroom</td>\n",
       "      <td>Bang Kapi</td>\n",
       "      <td>13.75232</td>\n",
       "      <td>100.62402</td>\n",
       "      <td>Private room</td>\n",
       "      <td>800</td>\n",
       "      <td>60</td>\n",
       "      <td>0</td>\n",
       "      <td>NaN</td>\n",
       "      <td>NaN</td>\n",
       "      <td>1</td>\n",
       "      <td>365</td>\n",
       "      <td>0</td>\n",
       "    </tr>\n",
       "    <tr>\n",
       "      <th>3</th>\n",
       "      <td>3</td>\n",
       "      <td>35780</td>\n",
       "      <td>Spacious one bedroom at The Kris Condo Bldg. 3</td>\n",
       "      <td>153730</td>\n",
       "      <td>Sirilak</td>\n",
       "      <td>Din Daeng</td>\n",
       "      <td>13.78823</td>\n",
       "      <td>100.57256</td>\n",
       "      <td>Private room</td>\n",
       "      <td>1286</td>\n",
       "      <td>7</td>\n",
       "      <td>2</td>\n",
       "      <td>2022-04-01</td>\n",
       "      <td>0.03</td>\n",
       "      <td>1</td>\n",
       "      <td>323</td>\n",
       "      <td>1</td>\n",
       "    </tr>\n",
       "    <tr>\n",
       "      <th>4</th>\n",
       "      <td>4</td>\n",
       "      <td>941865</td>\n",
       "      <td>Suite Room 3 at MetroPoint</td>\n",
       "      <td>610315</td>\n",
       "      <td>Kasem</td>\n",
       "      <td>Bang Kapi</td>\n",
       "      <td>13.76872</td>\n",
       "      <td>100.63338</td>\n",
       "      <td>Private room</td>\n",
       "      <td>1905</td>\n",
       "      <td>1</td>\n",
       "      <td>0</td>\n",
       "      <td>NaN</td>\n",
       "      <td>NaN</td>\n",
       "      <td>3</td>\n",
       "      <td>365</td>\n",
       "      <td>0</td>\n",
       "    </tr>\n",
       "  </tbody>\n",
       "</table>\n",
       "</div>"
      ],
      "text/plain": [
       "   Unnamed: 0      id                                            name  \\\n",
       "0           0   27934                 Nice room with superb city view   \n",
       "1           1   27979                  Easy going landlord,easy place   \n",
       "2           2   28745               modern-style apartment in Bangkok   \n",
       "3           3   35780  Spacious one bedroom at The Kris Condo Bldg. 3   \n",
       "4           4  941865                      Suite Room 3 at MetroPoint   \n",
       "\n",
       "   host_id   host_name neighbourhood  latitude  longitude        room_type  \\\n",
       "0   120437      Nuttee   Ratchathewi  13.75983  100.54134  Entire home/apt   \n",
       "1   120541         Emy       Bang Na  13.66818  100.61674     Private room   \n",
       "2   123784  Familyroom     Bang Kapi  13.75232  100.62402     Private room   \n",
       "3   153730     Sirilak     Din Daeng  13.78823  100.57256     Private room   \n",
       "4   610315       Kasem     Bang Kapi  13.76872  100.63338     Private room   \n",
       "\n",
       "   price  minimum_nights  number_of_reviews last_review  reviews_per_month  \\\n",
       "0   1905               3                 65  2020-01-06               0.50   \n",
       "1   1316               1                  0         NaN                NaN   \n",
       "2    800              60                  0         NaN                NaN   \n",
       "3   1286               7                  2  2022-04-01               0.03   \n",
       "4   1905               1                  0         NaN                NaN   \n",
       "\n",
       "   calculated_host_listings_count  availability_365  number_of_reviews_ltm  \n",
       "0                               2               353                      0  \n",
       "1                               2               358                      0  \n",
       "2                               1               365                      0  \n",
       "3                               1               323                      1  \n",
       "4                               3               365                      0  "
      ]
     },
     "metadata": {},
     "output_type": "display_data"
    },
    {
     "data": {
      "text/plain": [
       "(15854, 17)"
      ]
     },
     "metadata": {},
     "output_type": "display_data"
    }
   ],
   "source": [
    "#Membaca data csv\n",
    "df=pd.read_csv('Airbnb Listings Bangkok.csv')\n",
    "display(df.head(5),df.shape)"
   ]
  },
  {
   "cell_type": "markdown",
   "metadata": {},
   "source": [
    "Terdapat 15.854 baris data dengan 17 kolom. `Kolom Unnamed: 0` didrop dan tipe data kolom `last_review` diubah menjadi 'datetime'."
   ]
  },
  {
   "cell_type": "code",
   "execution_count": 3,
   "metadata": {},
   "outputs": [
    {
     "name": "stdout",
     "output_type": "stream",
     "text": [
      "<class 'pandas.core.frame.DataFrame'>\n",
      "RangeIndex: 15854 entries, 0 to 15853\n",
      "Data columns (total 16 columns):\n",
      " #   Column                          Non-Null Count  Dtype         \n",
      "---  ------                          --------------  -----         \n",
      " 0   id                              15854 non-null  int64         \n",
      " 1   name                            15846 non-null  object        \n",
      " 2   host_id                         15854 non-null  int64         \n",
      " 3   host_name                       15853 non-null  object        \n",
      " 4   neighbourhood                   15854 non-null  object        \n",
      " 5   latitude                        15854 non-null  float64       \n",
      " 6   longitude                       15854 non-null  float64       \n",
      " 7   room_type                       15854 non-null  object        \n",
      " 8   price                           15854 non-null  int64         \n",
      " 9   minimum_nights                  15854 non-null  int64         \n",
      " 10  number_of_reviews               15854 non-null  int64         \n",
      " 11  last_review                     10064 non-null  datetime64[ns]\n",
      " 12  reviews_per_month               10064 non-null  float64       \n",
      " 13  calculated_host_listings_count  15854 non-null  int64         \n",
      " 14  availability_365                15854 non-null  int64         \n",
      " 15  number_of_reviews_ltm           15854 non-null  int64         \n",
      "dtypes: datetime64[ns](1), float64(3), int64(8), object(4)\n",
      "memory usage: 1.9+ MB\n"
     ]
    }
   ],
   "source": [
    "#Mengubah kolom 'last_review' menjadi date time\n",
    "df['last_review']=pd.to_datetime(df['last_review'])\n",
    "#Menghapus kolom 'Unnamed: 0'\n",
    "df.drop(columns='Unnamed: 0',inplace=True)\n",
    "df.info()"
   ]
  },
  {
   "cell_type": "markdown",
   "metadata": {},
   "source": [
    "## 1.2. Data Understanding"
   ]
  },
  {
   "cell_type": "markdown",
   "metadata": {},
   "source": [
    "Berikut merupakan pengertian dari tiap-tiap kolom:\n",
    "|Nama Kolom|Arti|\n",
    "|--|--|\n",
    "|id|ID listing|\n",
    "|name|Nama listing|\n",
    "|host_id|ID host listing|\n",
    "|host_name|Nama host listing|\n",
    "|neighbourhood|Daerah lokasi|\n",
    "|latitude|Garis lintang lokasi|\n",
    "|longitude|Garis bujur lokasi|\n",
    "|room_type|Tipe kamar|\n",
    "|price|Harga per hari (Baht)|\n",
    "|minimum_nights|Minimal malam sewa|\n",
    "|number_of_reviews|Jumlah review|\n",
    "|last_review|Tanggal review terakhir|\n",
    "|reviews_per_month|Jumlah review per bulan|\n",
    "|calculated_host_listings_count|Jumlah listing yang dimiliki oleh host di wilayah yang sama|\n",
    "|availability_365|Ketersediaan listing kedepan (Hari)|\n",
    "|number_of_reviews_ltm|Jumlah review setahun terakhir|"
   ]
  },
  {
   "cell_type": "markdown",
   "metadata": {},
   "source": [
    "Berikut merupakan nilai unik dari tiap variabel:"
   ]
  },
  {
   "cell_type": "code",
   "execution_count": 4,
   "metadata": {},
   "outputs": [
    {
     "data": {
      "text/html": [
       "<div>\n",
       "<style scoped>\n",
       "    .dataframe tbody tr th:only-of-type {\n",
       "        vertical-align: middle;\n",
       "    }\n",
       "\n",
       "    .dataframe tbody tr th {\n",
       "        vertical-align: top;\n",
       "    }\n",
       "\n",
       "    .dataframe thead th {\n",
       "        text-align: right;\n",
       "    }\n",
       "</style>\n",
       "<table border=\"1\" class=\"dataframe\">\n",
       "  <thead>\n",
       "    <tr style=\"text-align: right;\">\n",
       "      <th></th>\n",
       "      <th>Column</th>\n",
       "      <th>Number of Unique</th>\n",
       "      <th>Values</th>\n",
       "    </tr>\n",
       "  </thead>\n",
       "  <tbody>\n",
       "    <tr>\n",
       "      <th>0</th>\n",
       "      <td>id</td>\n",
       "      <td>15854</td>\n",
       "      <td>[27934, 27979, 28745, 35780, 941865, 1704776, ...</td>\n",
       "    </tr>\n",
       "    <tr>\n",
       "      <th>1</th>\n",
       "      <td>name</td>\n",
       "      <td>14794</td>\n",
       "      <td>[Nice room with superb city view, Easy going l...</td>\n",
       "    </tr>\n",
       "    <tr>\n",
       "      <th>2</th>\n",
       "      <td>host_id</td>\n",
       "      <td>6659</td>\n",
       "      <td>[120437, 120541, 123784, 153730, 610315, 21296...</td>\n",
       "    </tr>\n",
       "    <tr>\n",
       "      <th>3</th>\n",
       "      <td>host_name</td>\n",
       "      <td>5312</td>\n",
       "      <td>[Nuttee, Emy, Familyroom, Sirilak, Kasem, Wimo...</td>\n",
       "    </tr>\n",
       "    <tr>\n",
       "      <th>4</th>\n",
       "      <td>neighbourhood</td>\n",
       "      <td>50</td>\n",
       "      <td>[Ratchathewi, Bang Na, Bang Kapi, Din Daeng, B...</td>\n",
       "    </tr>\n",
       "    <tr>\n",
       "      <th>5</th>\n",
       "      <td>latitude</td>\n",
       "      <td>9606</td>\n",
       "      <td>[13.75983, 13.66818, 13.75232, 13.78823, 13.76...</td>\n",
       "    </tr>\n",
       "    <tr>\n",
       "      <th>6</th>\n",
       "      <td>longitude</td>\n",
       "      <td>10224</td>\n",
       "      <td>[100.54134, 100.61674, 100.62402, 100.57256, 1...</td>\n",
       "    </tr>\n",
       "    <tr>\n",
       "      <th>7</th>\n",
       "      <td>room_type</td>\n",
       "      <td>4</td>\n",
       "      <td>[Entire home/apt, Private room, Hotel room, Sh...</td>\n",
       "    </tr>\n",
       "    <tr>\n",
       "      <th>8</th>\n",
       "      <td>price</td>\n",
       "      <td>3040</td>\n",
       "      <td>[1905, 1316, 800, 1286, 1000, 1558, 1461, 700,...</td>\n",
       "    </tr>\n",
       "    <tr>\n",
       "      <th>9</th>\n",
       "      <td>minimum_nights</td>\n",
       "      <td>86</td>\n",
       "      <td>[3, 1, 60, 7, 250, 2, 15, 30, 28, 21, 27, 4, 1...</td>\n",
       "    </tr>\n",
       "    <tr>\n",
       "      <th>10</th>\n",
       "      <td>number_of_reviews</td>\n",
       "      <td>298</td>\n",
       "      <td>[65, 0, 2, 19, 1, 10, 4, 27, 129, 208, 3, 78, ...</td>\n",
       "    </tr>\n",
       "    <tr>\n",
       "      <th>11</th>\n",
       "      <td>last_review</td>\n",
       "      <td>1669</td>\n",
       "      <td>[2020-01-06 00:00:00, NaT, 2022-04-01 00:00:00...</td>\n",
       "    </tr>\n",
       "    <tr>\n",
       "      <th>12</th>\n",
       "      <td>reviews_per_month</td>\n",
       "      <td>513</td>\n",
       "      <td>[0.5, nan, 0.03, 0.17, 0.01, 0.09, 0.19, 1.17,...</td>\n",
       "    </tr>\n",
       "    <tr>\n",
       "      <th>13</th>\n",
       "      <td>calculated_host_listings_count</td>\n",
       "      <td>50</td>\n",
       "      <td>[2, 1, 3, 41, 10, 7, 6, 4, 37, 8, 19, 5, 53, 4...</td>\n",
       "    </tr>\n",
       "    <tr>\n",
       "      <th>14</th>\n",
       "      <td>availability_365</td>\n",
       "      <td>366</td>\n",
       "      <td>[353, 358, 365, 323, 87, 320, 356, 361, 330, 1...</td>\n",
       "    </tr>\n",
       "    <tr>\n",
       "      <th>15</th>\n",
       "      <td>number_of_reviews_ltm</td>\n",
       "      <td>85</td>\n",
       "      <td>[0, 1, 3, 13, 2, 7, 5, 10, 9, 12, 29, 4, 19, 5...</td>\n",
       "    </tr>\n",
       "  </tbody>\n",
       "</table>\n",
       "</div>"
      ],
      "text/plain": [
       "                            Column  Number of Unique  \\\n",
       "0                               id             15854   \n",
       "1                             name             14794   \n",
       "2                          host_id              6659   \n",
       "3                        host_name              5312   \n",
       "4                    neighbourhood                50   \n",
       "5                         latitude              9606   \n",
       "6                        longitude             10224   \n",
       "7                        room_type                 4   \n",
       "8                            price              3040   \n",
       "9                   minimum_nights                86   \n",
       "10               number_of_reviews               298   \n",
       "11                     last_review              1669   \n",
       "12               reviews_per_month               513   \n",
       "13  calculated_host_listings_count                50   \n",
       "14                availability_365               366   \n",
       "15           number_of_reviews_ltm                85   \n",
       "\n",
       "                                               Values  \n",
       "0   [27934, 27979, 28745, 35780, 941865, 1704776, ...  \n",
       "1   [Nice room with superb city view, Easy going l...  \n",
       "2   [120437, 120541, 123784, 153730, 610315, 21296...  \n",
       "3   [Nuttee, Emy, Familyroom, Sirilak, Kasem, Wimo...  \n",
       "4   [Ratchathewi, Bang Na, Bang Kapi, Din Daeng, B...  \n",
       "5   [13.75983, 13.66818, 13.75232, 13.78823, 13.76...  \n",
       "6   [100.54134, 100.61674, 100.62402, 100.57256, 1...  \n",
       "7   [Entire home/apt, Private room, Hotel room, Sh...  \n",
       "8   [1905, 1316, 800, 1286, 1000, 1558, 1461, 700,...  \n",
       "9   [3, 1, 60, 7, 250, 2, 15, 30, 28, 21, 27, 4, 1...  \n",
       "10  [65, 0, 2, 19, 1, 10, 4, 27, 129, 208, 3, 78, ...  \n",
       "11  [2020-01-06 00:00:00, NaT, 2022-04-01 00:00:00...  \n",
       "12  [0.5, nan, 0.03, 0.17, 0.01, 0.09, 0.19, 1.17,...  \n",
       "13  [2, 1, 3, 41, 10, 7, 6, 4, 37, 8, 19, 5, 53, 4...  \n",
       "14  [353, 358, 365, 323, 87, 320, 356, 361, 330, 1...  \n",
       "15  [0, 1, 3, 13, 2, 7, 5, 10, 9, 12, 29, 4, 19, 5...  "
      ]
     },
     "execution_count": 4,
     "metadata": {},
     "output_type": "execute_result"
    }
   ],
   "source": [
    "# data unik di tiap variabel\n",
    "isi = []\n",
    "for col in df.columns :\n",
    "    isi.append( [col, df[col].nunique(), df[col].unique()])\n",
    "\n",
    "tabel = pd.DataFrame(columns=['Column', 'Number of Unique', 'Values'],data=isi)\n",
    "tabel"
   ]
  },
  {
   "cell_type": "markdown",
   "metadata": {},
   "source": [
    "Dari tabel diatas didapatkan informasi:\n",
    "1. Banyak host yang memiliki lebih dari 1 listing, ditandai oleh jumlah `id` unik lebih banyak dari `host_id`.\n",
    "2. Terdapat nama host yang sama namun berbeda host, ditandai oleh jumlah `host_id` unik lebih sedikit dari `host_name` unik.\n",
    "3. Terdapat 50 district, terlihat pada kolom `neighbourhood`.\n",
    "4. Terdapat 4 jenis tipe ruangan, terlihat pada kolom `room_type`\n"
   ]
  },
  {
   "cell_type": "markdown",
   "metadata": {},
   "source": [
    "Untuk kolom numerikal dapat dihitung statistika deskriptif sebagai berikut:"
   ]
  },
  {
   "cell_type": "code",
   "execution_count": 5,
   "metadata": {},
   "outputs": [
    {
     "data": {
      "text/html": [
       "<div>\n",
       "<style scoped>\n",
       "    .dataframe tbody tr th:only-of-type {\n",
       "        vertical-align: middle;\n",
       "    }\n",
       "\n",
       "    .dataframe tbody tr th {\n",
       "        vertical-align: top;\n",
       "    }\n",
       "\n",
       "    .dataframe thead th {\n",
       "        text-align: right;\n",
       "    }\n",
       "</style>\n",
       "<table border=\"1\" class=\"dataframe\">\n",
       "  <thead>\n",
       "    <tr style=\"text-align: right;\">\n",
       "      <th></th>\n",
       "      <th>price</th>\n",
       "      <th>minimum_nights</th>\n",
       "      <th>number_of_reviews</th>\n",
       "      <th>reviews_per_month</th>\n",
       "      <th>calculated_host_listings_count</th>\n",
       "      <th>availability_365</th>\n",
       "      <th>number_of_reviews_ltm</th>\n",
       "    </tr>\n",
       "  </thead>\n",
       "  <tbody>\n",
       "    <tr>\n",
       "      <th>count</th>\n",
       "      <td>1.585400e+04</td>\n",
       "      <td>15854.000000</td>\n",
       "      <td>15854.000000</td>\n",
       "      <td>10064.000000</td>\n",
       "      <td>15854.000000</td>\n",
       "      <td>15854.000000</td>\n",
       "      <td>15854.000000</td>\n",
       "    </tr>\n",
       "    <tr>\n",
       "      <th>mean</th>\n",
       "      <td>3.217704e+03</td>\n",
       "      <td>15.292355</td>\n",
       "      <td>16.654157</td>\n",
       "      <td>0.813145</td>\n",
       "      <td>13.889618</td>\n",
       "      <td>244.378643</td>\n",
       "      <td>3.481519</td>\n",
       "    </tr>\n",
       "    <tr>\n",
       "      <th>std</th>\n",
       "      <td>2.497212e+04</td>\n",
       "      <td>50.815020</td>\n",
       "      <td>40.613331</td>\n",
       "      <td>1.090196</td>\n",
       "      <td>30.269848</td>\n",
       "      <td>125.843224</td>\n",
       "      <td>8.916937</td>\n",
       "    </tr>\n",
       "    <tr>\n",
       "      <th>min</th>\n",
       "      <td>0.000000e+00</td>\n",
       "      <td>1.000000</td>\n",
       "      <td>0.000000</td>\n",
       "      <td>0.010000</td>\n",
       "      <td>1.000000</td>\n",
       "      <td>0.000000</td>\n",
       "      <td>0.000000</td>\n",
       "    </tr>\n",
       "    <tr>\n",
       "      <th>25%</th>\n",
       "      <td>9.000000e+02</td>\n",
       "      <td>1.000000</td>\n",
       "      <td>0.000000</td>\n",
       "      <td>0.120000</td>\n",
       "      <td>1.000000</td>\n",
       "      <td>138.000000</td>\n",
       "      <td>0.000000</td>\n",
       "    </tr>\n",
       "    <tr>\n",
       "      <th>50%</th>\n",
       "      <td>1.429000e+03</td>\n",
       "      <td>1.000000</td>\n",
       "      <td>2.000000</td>\n",
       "      <td>0.435000</td>\n",
       "      <td>4.000000</td>\n",
       "      <td>309.000000</td>\n",
       "      <td>0.000000</td>\n",
       "    </tr>\n",
       "    <tr>\n",
       "      <th>75%</th>\n",
       "      <td>2.429000e+03</td>\n",
       "      <td>7.000000</td>\n",
       "      <td>13.000000</td>\n",
       "      <td>1.060000</td>\n",
       "      <td>13.000000</td>\n",
       "      <td>360.000000</td>\n",
       "      <td>3.000000</td>\n",
       "    </tr>\n",
       "    <tr>\n",
       "      <th>max</th>\n",
       "      <td>1.100000e+06</td>\n",
       "      <td>1125.000000</td>\n",
       "      <td>1224.000000</td>\n",
       "      <td>19.130000</td>\n",
       "      <td>228.000000</td>\n",
       "      <td>365.000000</td>\n",
       "      <td>325.000000</td>\n",
       "    </tr>\n",
       "  </tbody>\n",
       "</table>\n",
       "</div>"
      ],
      "text/plain": [
       "              price  minimum_nights  number_of_reviews  reviews_per_month  \\\n",
       "count  1.585400e+04    15854.000000       15854.000000       10064.000000   \n",
       "mean   3.217704e+03       15.292355          16.654157           0.813145   \n",
       "std    2.497212e+04       50.815020          40.613331           1.090196   \n",
       "min    0.000000e+00        1.000000           0.000000           0.010000   \n",
       "25%    9.000000e+02        1.000000           0.000000           0.120000   \n",
       "50%    1.429000e+03        1.000000           2.000000           0.435000   \n",
       "75%    2.429000e+03        7.000000          13.000000           1.060000   \n",
       "max    1.100000e+06     1125.000000        1224.000000          19.130000   \n",
       "\n",
       "       calculated_host_listings_count  availability_365  number_of_reviews_ltm  \n",
       "count                    15854.000000      15854.000000           15854.000000  \n",
       "mean                        13.889618        244.378643               3.481519  \n",
       "std                         30.269848        125.843224               8.916937  \n",
       "min                          1.000000          0.000000               0.000000  \n",
       "25%                          1.000000        138.000000               0.000000  \n",
       "50%                          4.000000        309.000000               0.000000  \n",
       "75%                         13.000000        360.000000               3.000000  \n",
       "max                        228.000000        365.000000             325.000000  "
      ]
     },
     "execution_count": 5,
     "metadata": {},
     "output_type": "execute_result"
    }
   ],
   "source": [
    "df[['price','minimum_nights','number_of_reviews','reviews_per_month','calculated_host_listings_count','availability_365','number_of_reviews_ltm']].describe()"
   ]
  },
  {
   "cell_type": "markdown",
   "metadata": {},
   "source": [
    "Dari tabel diatas didapatkan informasi:\n",
    "1. Terdapat nilai `price` yang 0.\n",
    "2. Range `minimum_nights` dari 1 hari hingga lebih dari 3 tahun.\n",
    "3. Setidaknya 50% dari listing tidak memiliki review sejak 1 tahun lalu, dilihat dari median dari kolom `number_of_reviews_ltm` adalah 0.\n",
    "4. Nilai `price` termahal adalah 1.100.000 Baht per hari.\n",
    "5. Rata-rata setiap host memiliki 13,89 listing.\n",
    "\n",
    "Pengecekan jumlah listing dengan harga 0:\n"
   ]
  },
  {
   "cell_type": "code",
   "execution_count": 6,
   "metadata": {},
   "outputs": [
    {
     "data": {
      "text/plain": [
       "1"
      ]
     },
     "execution_count": 6,
     "metadata": {},
     "output_type": "execute_result"
    }
   ],
   "source": [
    "len(df[df['price']==0])"
   ]
  },
  {
   "cell_type": "markdown",
   "metadata": {},
   "source": [
    "Karena jumlah listing dengan harga 0 hanya 1 maka dapat di drop."
   ]
  },
  {
   "cell_type": "code",
   "execution_count": 7,
   "metadata": {},
   "outputs": [],
   "source": [
    "df=df[df['price']!=0]"
   ]
  },
  {
   "cell_type": "markdown",
   "metadata": {},
   "source": [
    "Untuk kolom kategorikal dapat dihitung statistika deskriptif sebagai berikut:"
   ]
  },
  {
   "cell_type": "code",
   "execution_count": 8,
   "metadata": {},
   "outputs": [
    {
     "data": {
      "text/html": [
       "<div>\n",
       "<style scoped>\n",
       "    .dataframe tbody tr th:only-of-type {\n",
       "        vertical-align: middle;\n",
       "    }\n",
       "\n",
       "    .dataframe tbody tr th {\n",
       "        vertical-align: top;\n",
       "    }\n",
       "\n",
       "    .dataframe thead th {\n",
       "        text-align: right;\n",
       "    }\n",
       "</style>\n",
       "<table border=\"1\" class=\"dataframe\">\n",
       "  <thead>\n",
       "    <tr style=\"text-align: right;\">\n",
       "      <th></th>\n",
       "      <th>name</th>\n",
       "      <th>host_name</th>\n",
       "      <th>neighbourhood</th>\n",
       "      <th>room_type</th>\n",
       "    </tr>\n",
       "  </thead>\n",
       "  <tbody>\n",
       "    <tr>\n",
       "      <th>count</th>\n",
       "      <td>15845</td>\n",
       "      <td>15852</td>\n",
       "      <td>15853</td>\n",
       "      <td>15853</td>\n",
       "    </tr>\n",
       "    <tr>\n",
       "      <th>unique</th>\n",
       "      <td>14793</td>\n",
       "      <td>5311</td>\n",
       "      <td>50</td>\n",
       "      <td>4</td>\n",
       "    </tr>\n",
       "    <tr>\n",
       "      <th>top</th>\n",
       "      <td>New!  La Chada Night Market studio 2PPL near MRT</td>\n",
       "      <td>Curry</td>\n",
       "      <td>Vadhana</td>\n",
       "      <td>Entire home/apt</td>\n",
       "    </tr>\n",
       "    <tr>\n",
       "      <th>freq</th>\n",
       "      <td>45</td>\n",
       "      <td>228</td>\n",
       "      <td>2152</td>\n",
       "      <td>8912</td>\n",
       "    </tr>\n",
       "  </tbody>\n",
       "</table>\n",
       "</div>"
      ],
      "text/plain": [
       "                                                    name host_name  \\\n",
       "count                                              15845     15852   \n",
       "unique                                             14793      5311   \n",
       "top     New!  La Chada Night Market studio 2PPL near MRT     Curry   \n",
       "freq                                                  45       228   \n",
       "\n",
       "       neighbourhood        room_type  \n",
       "count          15853            15853  \n",
       "unique            50                4  \n",
       "top          Vadhana  Entire home/apt  \n",
       "freq            2152             8912  "
      ]
     },
     "execution_count": 8,
     "metadata": {},
     "output_type": "execute_result"
    }
   ],
   "source": [
    "df.describe(include='object')"
   ]
  },
  {
   "cell_type": "markdown",
   "metadata": {},
   "source": [
    "Dari tabel diatas didapatkan informasi:\n",
    "1. Jumlah listing terbanyak berasal dari district **'Vadhana'**.\n",
    "2. Tipe ruangan terbanyak adalah **'Entire home/apt'**."
   ]
  },
  {
   "cell_type": "markdown",
   "metadata": {},
   "source": [
    "## 1.3. Missing Value"
   ]
  },
  {
   "cell_type": "markdown",
   "metadata": {},
   "source": [
    "Mengecek jumlah missing values pada setiap kolom."
   ]
  },
  {
   "cell_type": "code",
   "execution_count": 9,
   "metadata": {},
   "outputs": [
    {
     "data": {
      "text/plain": [
       "id                                   0\n",
       "name                                 8\n",
       "host_id                              0\n",
       "host_name                            1\n",
       "neighbourhood                        0\n",
       "latitude                             0\n",
       "longitude                            0\n",
       "room_type                            0\n",
       "price                                0\n",
       "minimum_nights                       0\n",
       "number_of_reviews                    0\n",
       "last_review                       5789\n",
       "reviews_per_month                 5789\n",
       "calculated_host_listings_count       0\n",
       "availability_365                     0\n",
       "number_of_reviews_ltm                0\n",
       "dtype: int64"
      ]
     },
     "execution_count": 9,
     "metadata": {},
     "output_type": "execute_result"
    }
   ],
   "source": [
    "#Menghitung missing values\n",
    "df.isna().sum()"
   ]
  },
  {
   "cell_type": "markdown",
   "metadata": {},
   "source": [
    "Terdapat missing value pada kolom `name`, `host_name`, `last_review`, dan `reviews_per_month`. Missing values pada kolom `name` dan `host_name` diisi dengan '-'."
   ]
  },
  {
   "cell_type": "code",
   "execution_count": 10,
   "metadata": {},
   "outputs": [
    {
     "data": {
      "text/plain": [
       "id                                   0\n",
       "name                                 0\n",
       "host_id                              0\n",
       "host_name                            0\n",
       "neighbourhood                        0\n",
       "latitude                             0\n",
       "longitude                            0\n",
       "room_type                            0\n",
       "price                                0\n",
       "minimum_nights                       0\n",
       "number_of_reviews                    0\n",
       "last_review                       5789\n",
       "reviews_per_month                 5789\n",
       "calculated_host_listings_count       0\n",
       "availability_365                     0\n",
       "number_of_reviews_ltm                0\n",
       "dtype: int64"
      ]
     },
     "execution_count": 10,
     "metadata": {},
     "output_type": "execute_result"
    }
   ],
   "source": [
    "#Mengisi missing values kolom name dan host_name dengan '-'\n",
    "df['name']=df['name'].fillna('-')\n",
    "df['host_name']=df['host_name'].fillna('-')\n",
    "df.isna().sum()"
   ]
  },
  {
   "cell_type": "markdown",
   "metadata": {},
   "source": [
    "Kemudian mengecek apakah missing values pada kolom `last_review` dan `reviews_per_month` dikarenakan listing tidak memiliki review sama sekali."
   ]
  },
  {
   "cell_type": "code",
   "execution_count": 11,
   "metadata": {},
   "outputs": [
    {
     "data": {
      "text/plain": [
       "5789"
      ]
     },
     "metadata": {},
     "output_type": "display_data"
    },
    {
     "data": {
      "text/plain": [
       "5789"
      ]
     },
     "metadata": {},
     "output_type": "display_data"
    }
   ],
   "source": [
    "#Mengecek apakah missing value pada kolom last_review dan reviews_per_month memiliki number_of_reviews sama dengan 0.\n",
    "display(len(df[(df['last_review'].isna())&(df['number_of_reviews']==0)]),len(df[(df['reviews_per_month'].isna())&(df['number_of_reviews']==0)]))"
   ]
  },
  {
   "cell_type": "markdown",
   "metadata": {},
   "source": [
    "Didapatkan seluruh 5.789 missing values dari kolom `last_review` dan `reviews_per_month` memiliki jumlah total review sama dengan nol, maka missing values pada kolom `reviews_per_month` diisi dengan nol, dan missing values dari kolom `last_review` dibiarkan terlebih dahulu."
   ]
  },
  {
   "cell_type": "code",
   "execution_count": 12,
   "metadata": {},
   "outputs": [
    {
     "data": {
      "text/plain": [
       "id                                   0\n",
       "name                                 0\n",
       "host_id                              0\n",
       "host_name                            0\n",
       "neighbourhood                        0\n",
       "latitude                             0\n",
       "longitude                            0\n",
       "room_type                            0\n",
       "price                                0\n",
       "minimum_nights                       0\n",
       "number_of_reviews                    0\n",
       "last_review                       5789\n",
       "reviews_per_month                    0\n",
       "calculated_host_listings_count       0\n",
       "availability_365                     0\n",
       "number_of_reviews_ltm                0\n",
       "dtype: int64"
      ]
     },
     "execution_count": 12,
     "metadata": {},
     "output_type": "execute_result"
    }
   ],
   "source": [
    "#Mengisi missing values kolom reviews_per_month dengan 0\n",
    "df['reviews_per_month']=df['reviews_per_month'].fillna(0)\n",
    "#Sedangkan untuk missing values pada kolom last_review dibiarkan dulu\n",
    "df.isna().sum()"
   ]
  },
  {
   "cell_type": "markdown",
   "metadata": {},
   "source": [
    "## 1.4. Outlier"
   ]
  },
  {
   "cell_type": "markdown",
   "metadata": {},
   "source": [
    "Berikut merupakan tabel banyaknya outlier disetiap kolom."
   ]
  },
  {
   "cell_type": "code",
   "execution_count": 13,
   "metadata": {},
   "outputs": [
    {
     "data": {
      "text/html": [
       "<div>\n",
       "<style scoped>\n",
       "    .dataframe tbody tr th:only-of-type {\n",
       "        vertical-align: middle;\n",
       "    }\n",
       "\n",
       "    .dataframe tbody tr th {\n",
       "        vertical-align: top;\n",
       "    }\n",
       "\n",
       "    .dataframe thead th {\n",
       "        text-align: right;\n",
       "    }\n",
       "</style>\n",
       "<table border=\"1\" class=\"dataframe\">\n",
       "  <thead>\n",
       "    <tr style=\"text-align: right;\">\n",
       "      <th></th>\n",
       "      <th>Median</th>\n",
       "      <th>Batas Bawah</th>\n",
       "      <th>Batas Atas</th>\n",
       "      <th>Jumlah Outlier</th>\n",
       "      <th>Persentase Outlier (%)</th>\n",
       "    </tr>\n",
       "  </thead>\n",
       "  <tbody>\n",
       "    <tr>\n",
       "      <th>price</th>\n",
       "      <td>1429.00</td>\n",
       "      <td>-1393.50</td>\n",
       "      <td>4722.50</td>\n",
       "      <td>1403.0</td>\n",
       "      <td>8.85</td>\n",
       "    </tr>\n",
       "    <tr>\n",
       "      <th>minimum_nights</th>\n",
       "      <td>1.00</td>\n",
       "      <td>-8.00</td>\n",
       "      <td>16.00</td>\n",
       "      <td>3168.0</td>\n",
       "      <td>19.98</td>\n",
       "    </tr>\n",
       "    <tr>\n",
       "      <th>number_of_reviews</th>\n",
       "      <td>2.00</td>\n",
       "      <td>-19.50</td>\n",
       "      <td>32.50</td>\n",
       "      <td>2240.0</td>\n",
       "      <td>14.13</td>\n",
       "    </tr>\n",
       "    <tr>\n",
       "      <th>reviews_per_month</th>\n",
       "      <td>0.09</td>\n",
       "      <td>-1.01</td>\n",
       "      <td>1.68</td>\n",
       "      <td>1471.0</td>\n",
       "      <td>9.28</td>\n",
       "    </tr>\n",
       "    <tr>\n",
       "      <th>number_of_reviews_ltm</th>\n",
       "      <td>0.00</td>\n",
       "      <td>-4.50</td>\n",
       "      <td>7.50</td>\n",
       "      <td>2219.0</td>\n",
       "      <td>14.00</td>\n",
       "    </tr>\n",
       "  </tbody>\n",
       "</table>\n",
       "</div>"
      ],
      "text/plain": [
       "                        Median  Batas Bawah  Batas Atas  Jumlah Outlier  \\\n",
       "price                  1429.00     -1393.50     4722.50          1403.0   \n",
       "minimum_nights            1.00        -8.00       16.00          3168.0   \n",
       "number_of_reviews         2.00       -19.50       32.50          2240.0   \n",
       "reviews_per_month         0.09        -1.01        1.68          1471.0   \n",
       "number_of_reviews_ltm     0.00        -4.50        7.50          2219.0   \n",
       "\n",
       "                       Persentase Outlier (%)  \n",
       "price                                    8.85  \n",
       "minimum_nights                          19.98  \n",
       "number_of_reviews                       14.13  \n",
       "reviews_per_month                        9.28  \n",
       "number_of_reviews_ltm                   14.00  "
      ]
     },
     "metadata": {},
     "output_type": "display_data"
    }
   ],
   "source": [
    "kolom_numerikal=df[['price', 'minimum_nights','number_of_reviews', 'reviews_per_month', 'number_of_reviews_ltm']].columns\n",
    "tabel_outlier=pd.DataFrame(columns=['Median','Batas Bawah','Batas Atas','Jumlah Outlier','Persentase Outlier (%)'])\n",
    "for kolom in kolom_numerikal:\n",
    "    Q1=df[kolom].quantile(0.25)\n",
    "    Q2=df[kolom].quantile(0.5)\n",
    "    Q3=df[kolom].quantile(0.75)\n",
    "    batas_atas=Q3+1.5*(Q3-Q1)\n",
    "    batas_bawah=Q1-1.5*(Q3-Q1)\n",
    "    tabel_outlier.loc[kolom]=[df[kolom].median(),batas_bawah,batas_atas,len(df[(df[kolom]>batas_atas)|(df[kolom]<batas_bawah)]),len(df[(df[kolom]>batas_atas)|(df[kolom]<batas_bawah)])/len(df)*100]\n",
    "display(tabel_outlier.round(2))"
   ]
  },
  {
   "cell_type": "markdown",
   "metadata": {},
   "source": [
    "Didapatkan bahwa di setiap kolom terdapat outlier yang cukup banyak. Kemudian di cek statistika deskriptif dari kolom numerikal."
   ]
  },
  {
   "cell_type": "code",
   "execution_count": 14,
   "metadata": {},
   "outputs": [
    {
     "data": {
      "text/html": [
       "<div>\n",
       "<style scoped>\n",
       "    .dataframe tbody tr th:only-of-type {\n",
       "        vertical-align: middle;\n",
       "    }\n",
       "\n",
       "    .dataframe tbody tr th {\n",
       "        vertical-align: top;\n",
       "    }\n",
       "\n",
       "    .dataframe thead th {\n",
       "        text-align: right;\n",
       "    }\n",
       "</style>\n",
       "<table border=\"1\" class=\"dataframe\">\n",
       "  <thead>\n",
       "    <tr style=\"text-align: right;\">\n",
       "      <th></th>\n",
       "      <th>count</th>\n",
       "      <th>mean</th>\n",
       "      <th>std</th>\n",
       "      <th>min</th>\n",
       "      <th>25%</th>\n",
       "      <th>50%</th>\n",
       "      <th>75%</th>\n",
       "      <th>max</th>\n",
       "    </tr>\n",
       "  </thead>\n",
       "  <tbody>\n",
       "    <tr>\n",
       "      <th>price</th>\n",
       "      <td>15853.0</td>\n",
       "      <td>3217.906895</td>\n",
       "      <td>24972.896932</td>\n",
       "      <td>278.0</td>\n",
       "      <td>900.0</td>\n",
       "      <td>1429.00</td>\n",
       "      <td>2429.00</td>\n",
       "      <td>1100000.00</td>\n",
       "    </tr>\n",
       "    <tr>\n",
       "      <th>minimum_nights</th>\n",
       "      <td>15853.0</td>\n",
       "      <td>15.293257</td>\n",
       "      <td>50.816496</td>\n",
       "      <td>1.0</td>\n",
       "      <td>1.0</td>\n",
       "      <td>1.00</td>\n",
       "      <td>7.00</td>\n",
       "      <td>1125.00</td>\n",
       "    </tr>\n",
       "    <tr>\n",
       "      <th>number_of_reviews</th>\n",
       "      <td>15853.0</td>\n",
       "      <td>16.655207</td>\n",
       "      <td>40.614397</td>\n",
       "      <td>0.0</td>\n",
       "      <td>0.0</td>\n",
       "      <td>2.00</td>\n",
       "      <td>13.00</td>\n",
       "      <td>1224.00</td>\n",
       "    </tr>\n",
       "    <tr>\n",
       "      <th>reviews_per_month</th>\n",
       "      <td>15853.0</td>\n",
       "      <td>0.516211</td>\n",
       "      <td>0.952774</td>\n",
       "      <td>0.0</td>\n",
       "      <td>0.0</td>\n",
       "      <td>0.09</td>\n",
       "      <td>0.67</td>\n",
       "      <td>19.13</td>\n",
       "    </tr>\n",
       "    <tr>\n",
       "      <th>number_of_reviews_ltm</th>\n",
       "      <td>15853.0</td>\n",
       "      <td>3.481738</td>\n",
       "      <td>8.917176</td>\n",
       "      <td>0.0</td>\n",
       "      <td>0.0</td>\n",
       "      <td>0.00</td>\n",
       "      <td>3.00</td>\n",
       "      <td>325.00</td>\n",
       "    </tr>\n",
       "  </tbody>\n",
       "</table>\n",
       "</div>"
      ],
      "text/plain": [
       "                         count         mean           std    min    25%  \\\n",
       "price                  15853.0  3217.906895  24972.896932  278.0  900.0   \n",
       "minimum_nights         15853.0    15.293257     50.816496    1.0    1.0   \n",
       "number_of_reviews      15853.0    16.655207     40.614397    0.0    0.0   \n",
       "reviews_per_month      15853.0     0.516211      0.952774    0.0    0.0   \n",
       "number_of_reviews_ltm  15853.0     3.481738      8.917176    0.0    0.0   \n",
       "\n",
       "                           50%      75%         max  \n",
       "price                  1429.00  2429.00  1100000.00  \n",
       "minimum_nights            1.00     7.00     1125.00  \n",
       "number_of_reviews         2.00    13.00     1224.00  \n",
       "reviews_per_month         0.09     0.67       19.13  \n",
       "number_of_reviews_ltm     0.00     3.00      325.00  "
      ]
     },
     "execution_count": 14,
     "metadata": {},
     "output_type": "execute_result"
    }
   ],
   "source": [
    "df[['price', 'minimum_nights','number_of_reviews', 'reviews_per_month', 'number_of_reviews_ltm']].describe().T"
   ]
  },
  {
   "cell_type": "markdown",
   "metadata": {},
   "source": [
    "Dari kolom `price` didapatkan bahwa nilai maksimalnya adalah 1.100.000 Baht atau sebesar 504 juta rupiah, sedangkan nilai quartil tiganya hanya 2.429 Baht atau sebesar 1,1 juta rupiah, oleh karena itu outlier dari price di drop dikarenakan harga yang signifikan berbeda jauh dapat menyebabkan adanya perbedaan karakteristik dibandingkan dengan yang listing yang lain."
   ]
  },
  {
   "cell_type": "code",
   "execution_count": 15,
   "metadata": {},
   "outputs": [
    {
     "name": "stdout",
     "output_type": "stream",
     "text": [
      "Percentase baris dengan outlier : 8.85%\n"
     ]
    }
   ],
   "source": [
    "#Data outlier\n",
    "numerikal=['price']\n",
    "index_outlier=[]\n",
    "for i in numerikal:\n",
    "    q1, q3 = df[i].quantile([0.25, 0.75])\n",
    "    iqr = q3 - q1\n",
    "    lower = q1 - iqr * 1.5\n",
    "    upper = q3 + iqr * 1.5\n",
    "    index_outlier+=list(df[(df[i]>upper)|(df[i]<lower)].index)\n",
    "index_outlier=list(set(index_outlier))\n",
    "print(f'Percentase baris dengan outlier : {round(len(index_outlier)/len(df)*100,3)}%')\n",
    "df.drop(index_outlier,inplace=True)"
   ]
  },
  {
   "cell_type": "markdown",
   "metadata": {},
   "source": [
    "## 1.5. Data Duplicate"
   ]
  },
  {
   "cell_type": "markdown",
   "metadata": {},
   "source": [
    "Mengecek apakah terdapat data duplikat pada setiap baris dan pada kolom `id`."
   ]
  },
  {
   "cell_type": "code",
   "execution_count": 16,
   "metadata": {},
   "outputs": [
    {
     "data": {
      "text/plain": [
       "0"
      ]
     },
     "metadata": {},
     "output_type": "display_data"
    },
    {
     "data": {
      "text/plain": [
       "0"
      ]
     },
     "metadata": {},
     "output_type": "display_data"
    }
   ],
   "source": [
    "display(df.duplicated().sum(),df['id'].duplicated().sum())"
   ]
  },
  {
   "cell_type": "markdown",
   "metadata": {},
   "source": [
    "Tidak terdapat data duplikat."
   ]
  },
  {
   "cell_type": "markdown",
   "metadata": {},
   "source": [
    "# 2. Data Preprocessing"
   ]
  },
  {
   "cell_type": "markdown",
   "metadata": {},
   "source": [
    "## 2.1. Kolom `name`"
   ]
  },
  {
   "cell_type": "markdown",
   "metadata": {},
   "source": [
    "Sebelum kolom `name` dapat dianalisis, data harus diolah terlebih dahulu dengan membuat fungsi untuk membersihkan data dimana prosesnya adalah :\n",
    "1. Menghapus karakter non huruf\n",
    "2. Menentukan apakah karakter merupakan karakter latin atau tidak"
   ]
  },
  {
   "cell_type": "code",
   "execution_count": 17,
   "metadata": {},
   "outputs": [],
   "source": [
    "import unicodedata\n",
    "def latin(input):\n",
    "    latin='latin'\n",
    "    kalimat=[]\n",
    "    #Menghapus karakter non huruf\n",
    "    for karakter in input:\n",
    "        if unicodedata.category(karakter)[0]=='L':\n",
    "            kalimat.append(karakter)\n",
    "        else:\n",
    "            pass\n",
    "    kalimat=''.join(kalimat).lower()\n",
    "    for i in kalimat:\n",
    "        if unicodedata.category(i) not in ['Ll','Zs']:\n",
    "            latin='non latin'\n",
    "    return latin\n"
   ]
  },
  {
   "cell_type": "code",
   "execution_count": 18,
   "metadata": {},
   "outputs": [],
   "source": [
    "df['name_latin']=df['name'].apply(latin)"
   ]
  },
  {
   "cell_type": "markdown",
   "metadata": {},
   "source": [
    "## 2.2. Kolom `minimum_nights`"
   ]
  },
  {
   "cell_type": "markdown",
   "metadata": {},
   "source": [
    "Kolom `minimum_nights` akan dibagi menjadi 2 kelas yaitu:\n",
    "\n",
    "|Label|Arti|\n",
    "|--------|-----|\n",
    "|short|1-7 hari|\n",
    "|long|>7 hari|\n",
    "\n",
    "Kolom `minimum_nights` dikelompokan 2 dikarenakan memiliki target pasar yang berbeda, orang yang menyewa jangka pendek biasanya adalah wisatawan atau orang yang berkeperluan bisnis, sedangkan orang yang menyewa jangka panjang biasanya adalah mahasiswa, pekerja sementara, dan orang yang baru di kota.\n"
   ]
  },
  {
   "cell_type": "code",
   "execution_count": 19,
   "metadata": {},
   "outputs": [],
   "source": [
    "def minimum_nights_class(x):\n",
    "        if x<=7:\n",
    "            return 'short'\n",
    "        else:\n",
    "            return 'long'"
   ]
  },
  {
   "cell_type": "code",
   "execution_count": 20,
   "metadata": {},
   "outputs": [],
   "source": [
    "df['minimum_nights_class']=df['minimum_nights'].apply(minimum_nights_class)"
   ]
  },
  {
   "cell_type": "markdown",
   "metadata": {},
   "source": [
    "## 2.3. Mendrop Kolom yang Tidak Perlu"
   ]
  },
  {
   "cell_type": "markdown",
   "metadata": {},
   "source": [
    "Kolom yang tidak diperlukan untuk analisis didrop, kolom yang di drop antara lain adalah : \n",
    "* `last_review` : Dikarenakan sudah ada variabel yang menjelaskan apakah ada review sejak 1 tahun terakhir yaitu kolom `number_of_reviews_ltm`\n",
    "* `name` : Dikarenakan sudah diwakilkan oleh kolom `name_latin`\n",
    "* `host_name` : Host name tidak masuk dalam analisis\n",
    "* `calculated_host_listings_count` : Jumlah listing dari host tidak masuk dalam analisis\n",
    "* `availability_365` : Ketersediaan kamar dapat dipengaruhi oleh di blok oleh host atau memang terisi, sehingga kolom kurang bisa menjelaskan banyaknya pesanan"
   ]
  },
  {
   "cell_type": "code",
   "execution_count": 21,
   "metadata": {},
   "outputs": [],
   "source": [
    "df.drop(columns=['last_review','name','host_name','calculated_host_listings_count','availability_365'],inplace=True)"
   ]
  },
  {
   "cell_type": "code",
   "execution_count": 22,
   "metadata": {},
   "outputs": [
    {
     "data": {
      "text/html": [
       "<div>\n",
       "<style scoped>\n",
       "    .dataframe tbody tr th:only-of-type {\n",
       "        vertical-align: middle;\n",
       "    }\n",
       "\n",
       "    .dataframe tbody tr th {\n",
       "        vertical-align: top;\n",
       "    }\n",
       "\n",
       "    .dataframe thead th {\n",
       "        text-align: right;\n",
       "    }\n",
       "</style>\n",
       "<table border=\"1\" class=\"dataframe\">\n",
       "  <thead>\n",
       "    <tr style=\"text-align: right;\">\n",
       "      <th></th>\n",
       "      <th>id</th>\n",
       "      <th>host_id</th>\n",
       "      <th>neighbourhood</th>\n",
       "      <th>latitude</th>\n",
       "      <th>longitude</th>\n",
       "      <th>room_type</th>\n",
       "      <th>price</th>\n",
       "      <th>minimum_nights</th>\n",
       "      <th>number_of_reviews</th>\n",
       "      <th>reviews_per_month</th>\n",
       "      <th>number_of_reviews_ltm</th>\n",
       "      <th>name_latin</th>\n",
       "      <th>minimum_nights_class</th>\n",
       "    </tr>\n",
       "  </thead>\n",
       "  <tbody>\n",
       "    <tr>\n",
       "      <th>0</th>\n",
       "      <td>27934</td>\n",
       "      <td>120437</td>\n",
       "      <td>Ratchathewi</td>\n",
       "      <td>13.75983</td>\n",
       "      <td>100.54134</td>\n",
       "      <td>Entire home/apt</td>\n",
       "      <td>1905</td>\n",
       "      <td>3</td>\n",
       "      <td>65</td>\n",
       "      <td>0.50</td>\n",
       "      <td>0</td>\n",
       "      <td>latin</td>\n",
       "      <td>short</td>\n",
       "    </tr>\n",
       "    <tr>\n",
       "      <th>1</th>\n",
       "      <td>27979</td>\n",
       "      <td>120541</td>\n",
       "      <td>Bang Na</td>\n",
       "      <td>13.66818</td>\n",
       "      <td>100.61674</td>\n",
       "      <td>Private room</td>\n",
       "      <td>1316</td>\n",
       "      <td>1</td>\n",
       "      <td>0</td>\n",
       "      <td>0.00</td>\n",
       "      <td>0</td>\n",
       "      <td>latin</td>\n",
       "      <td>short</td>\n",
       "    </tr>\n",
       "    <tr>\n",
       "      <th>2</th>\n",
       "      <td>28745</td>\n",
       "      <td>123784</td>\n",
       "      <td>Bang Kapi</td>\n",
       "      <td>13.75232</td>\n",
       "      <td>100.62402</td>\n",
       "      <td>Private room</td>\n",
       "      <td>800</td>\n",
       "      <td>60</td>\n",
       "      <td>0</td>\n",
       "      <td>0.00</td>\n",
       "      <td>0</td>\n",
       "      <td>latin</td>\n",
       "      <td>long</td>\n",
       "    </tr>\n",
       "    <tr>\n",
       "      <th>3</th>\n",
       "      <td>35780</td>\n",
       "      <td>153730</td>\n",
       "      <td>Din Daeng</td>\n",
       "      <td>13.78823</td>\n",
       "      <td>100.57256</td>\n",
       "      <td>Private room</td>\n",
       "      <td>1286</td>\n",
       "      <td>7</td>\n",
       "      <td>2</td>\n",
       "      <td>0.03</td>\n",
       "      <td>1</td>\n",
       "      <td>latin</td>\n",
       "      <td>short</td>\n",
       "    </tr>\n",
       "    <tr>\n",
       "      <th>4</th>\n",
       "      <td>941865</td>\n",
       "      <td>610315</td>\n",
       "      <td>Bang Kapi</td>\n",
       "      <td>13.76872</td>\n",
       "      <td>100.63338</td>\n",
       "      <td>Private room</td>\n",
       "      <td>1905</td>\n",
       "      <td>1</td>\n",
       "      <td>0</td>\n",
       "      <td>0.00</td>\n",
       "      <td>0</td>\n",
       "      <td>latin</td>\n",
       "      <td>short</td>\n",
       "    </tr>\n",
       "  </tbody>\n",
       "</table>\n",
       "</div>"
      ],
      "text/plain": [
       "       id  host_id neighbourhood  latitude  longitude        room_type  price  \\\n",
       "0   27934   120437   Ratchathewi  13.75983  100.54134  Entire home/apt   1905   \n",
       "1   27979   120541       Bang Na  13.66818  100.61674     Private room   1316   \n",
       "2   28745   123784     Bang Kapi  13.75232  100.62402     Private room    800   \n",
       "3   35780   153730     Din Daeng  13.78823  100.57256     Private room   1286   \n",
       "4  941865   610315     Bang Kapi  13.76872  100.63338     Private room   1905   \n",
       "\n",
       "   minimum_nights  number_of_reviews  reviews_per_month  \\\n",
       "0               3                 65               0.50   \n",
       "1               1                  0               0.00   \n",
       "2              60                  0               0.00   \n",
       "3               7                  2               0.03   \n",
       "4               1                  0               0.00   \n",
       "\n",
       "   number_of_reviews_ltm name_latin minimum_nights_class  \n",
       "0                      0      latin                short  \n",
       "1                      0      latin                short  \n",
       "2                      0      latin                 long  \n",
       "3                      1      latin                short  \n",
       "4                      0      latin                short  "
      ]
     },
     "execution_count": 22,
     "metadata": {},
     "output_type": "execute_result"
    }
   ],
   "source": [
    "df.head(5)"
   ]
  },
  {
   "cell_type": "markdown",
   "metadata": {},
   "source": [
    "# 3. Statistika Deskriptif"
   ]
  },
  {
   "cell_type": "markdown",
   "metadata": {},
   "source": [
    "## 3.1. Variabel Kategorikal"
   ]
  },
  {
   "cell_type": "markdown",
   "metadata": {},
   "source": [
    "### a. Variabel `neighbourhood`"
   ]
  },
  {
   "cell_type": "code",
   "execution_count": 23,
   "metadata": {},
   "outputs": [
    {
     "data": {
      "text/html": [
       "<div>\n",
       "<style scoped>\n",
       "    .dataframe tbody tr th:only-of-type {\n",
       "        vertical-align: middle;\n",
       "    }\n",
       "\n",
       "    .dataframe tbody tr th {\n",
       "        vertical-align: top;\n",
       "    }\n",
       "\n",
       "    .dataframe thead th {\n",
       "        text-align: right;\n",
       "    }\n",
       "</style>\n",
       "<table border=\"1\" class=\"dataframe\">\n",
       "  <thead>\n",
       "    <tr style=\"text-align: right;\">\n",
       "      <th></th>\n",
       "      <th>id</th>\n",
       "      <th>percentage (%)</th>\n",
       "    </tr>\n",
       "    <tr>\n",
       "      <th>neighbourhood</th>\n",
       "      <th></th>\n",
       "      <th></th>\n",
       "    </tr>\n",
       "  </thead>\n",
       "  <tbody>\n",
       "    <tr>\n",
       "      <th>Khlong Toei</th>\n",
       "      <td>1887</td>\n",
       "      <td>13.058824</td>\n",
       "    </tr>\n",
       "    <tr>\n",
       "      <th>Vadhana</th>\n",
       "      <td>1769</td>\n",
       "      <td>12.242215</td>\n",
       "    </tr>\n",
       "    <tr>\n",
       "      <th>Ratchathewi</th>\n",
       "      <td>1059</td>\n",
       "      <td>7.328720</td>\n",
       "    </tr>\n",
       "    <tr>\n",
       "      <th>Huai Khwang</th>\n",
       "      <td>1031</td>\n",
       "      <td>7.134948</td>\n",
       "    </tr>\n",
       "    <tr>\n",
       "      <th>Sathon</th>\n",
       "      <td>762</td>\n",
       "      <td>5.273356</td>\n",
       "    </tr>\n",
       "    <tr>\n",
       "      <th>Bang Rak</th>\n",
       "      <td>738</td>\n",
       "      <td>5.107266</td>\n",
       "    </tr>\n",
       "    <tr>\n",
       "      <th>Phra Nakhon</th>\n",
       "      <td>585</td>\n",
       "      <td>4.048443</td>\n",
       "    </tr>\n",
       "    <tr>\n",
       "      <th>Phra Khanong</th>\n",
       "      <td>540</td>\n",
       "      <td>3.737024</td>\n",
       "    </tr>\n",
       "    <tr>\n",
       "      <th>Chatu Chak</th>\n",
       "      <td>522</td>\n",
       "      <td>3.612457</td>\n",
       "    </tr>\n",
       "    <tr>\n",
       "      <th>Bang Na</th>\n",
       "      <td>430</td>\n",
       "      <td>2.975779</td>\n",
       "    </tr>\n",
       "  </tbody>\n",
       "</table>\n",
       "</div>"
      ],
      "text/plain": [
       "                 id  percentage (%)\n",
       "neighbourhood                      \n",
       "Khlong Toei    1887       13.058824\n",
       "Vadhana        1769       12.242215\n",
       "Ratchathewi    1059        7.328720\n",
       "Huai Khwang    1031        7.134948\n",
       "Sathon          762        5.273356\n",
       "Bang Rak        738        5.107266\n",
       "Phra Nakhon     585        4.048443\n",
       "Phra Khanong    540        3.737024\n",
       "Chatu Chak      522        3.612457\n",
       "Bang Na         430        2.975779"
      ]
     },
     "execution_count": 23,
     "metadata": {},
     "output_type": "execute_result"
    },
    {
     "data": {
      "image/png": "[encoded data removed]",
      "text/plain": [
       "<Figure size 640x480 with 1 Axes>"
      ]
     },
     "metadata": {},
     "output_type": "display_data"
    }
   ],
   "source": [
    "tab=df[['neighbourhood','id']].groupby('neighbourhood').count().sort_values('id',ascending=False)\n",
    "tab['percentage (%)']=tab['id']/len(df)*100\n",
    "sns.barplot(data=tab.head(10),x='percentage (%)',y=tab.head(10).index,palette='tab10',hue=tab.head(10).index)\n",
    "plt.title('Barplot of neighbourhood')\n",
    "tab.head(10)"
   ]
  },
  {
   "cell_type": "markdown",
   "metadata": {},
   "source": [
    "District dengan listing terbanyak berasal dari **Khlong Toei** yaitu sebesar 1.887 atau 13,06% dari total listing."
   ]
  },
  {
   "cell_type": "markdown",
   "metadata": {},
   "source": [
    "### b. Variabel `room_type`"
   ]
  },
  {
   "cell_type": "code",
   "execution_count": 24,
   "metadata": {},
   "outputs": [
    {
     "data": {
      "text/html": [
       "<div>\n",
       "<style scoped>\n",
       "    .dataframe tbody tr th:only-of-type {\n",
       "        vertical-align: middle;\n",
       "    }\n",
       "\n",
       "    .dataframe tbody tr th {\n",
       "        vertical-align: top;\n",
       "    }\n",
       "\n",
       "    .dataframe thead th {\n",
       "        text-align: right;\n",
       "    }\n",
       "</style>\n",
       "<table border=\"1\" class=\"dataframe\">\n",
       "  <thead>\n",
       "    <tr style=\"text-align: right;\">\n",
       "      <th></th>\n",
       "      <th>id</th>\n",
       "      <th>percentage (%)</th>\n",
       "    </tr>\n",
       "    <tr>\n",
       "      <th>room_type</th>\n",
       "      <th></th>\n",
       "      <th></th>\n",
       "    </tr>\n",
       "  </thead>\n",
       "  <tbody>\n",
       "    <tr>\n",
       "      <th>Entire home/apt</th>\n",
       "      <td>8107</td>\n",
       "      <td>56.103806</td>\n",
       "    </tr>\n",
       "    <tr>\n",
       "      <th>Private room</th>\n",
       "      <td>5281</td>\n",
       "      <td>36.546713</td>\n",
       "    </tr>\n",
       "    <tr>\n",
       "      <th>Hotel room</th>\n",
       "      <td>553</td>\n",
       "      <td>3.826990</td>\n",
       "    </tr>\n",
       "    <tr>\n",
       "      <th>Shared room</th>\n",
       "      <td>509</td>\n",
       "      <td>3.522491</td>\n",
       "    </tr>\n",
       "  </tbody>\n",
       "</table>\n",
       "</div>"
      ],
      "text/plain": [
       "                   id  percentage (%)\n",
       "room_type                            \n",
       "Entire home/apt  8107       56.103806\n",
       "Private room     5281       36.546713\n",
       "Hotel room        553        3.826990\n",
       "Shared room       509        3.522491"
      ]
     },
     "execution_count": 24,
     "metadata": {},
     "output_type": "execute_result"
    },
    {
     "data": {
      "image/png": "[encoded data removed]",
      "text/plain": [
       "<Figure size 640x480 with 1 Axes>"
      ]
     },
     "metadata": {},
     "output_type": "display_data"
    }
   ],
   "source": [
    "tab=df[['room_type','id']].groupby('room_type').count().sort_values('id',ascending=False)\n",
    "tab['percentage (%)']=tab['id']/len(df)*100\n",
    "sns.barplot(data=tab,x='percentage (%)',y=tab.index,palette='tab10',hue=tab.index)\n",
    "plt.title('Barplot of room_type')\n",
    "tab.head(15)"
   ]
  },
  {
   "cell_type": "markdown",
   "metadata": {},
   "source": [
    "Jenis kamar dengan listing terbanyak adalah tipe **Entire home/apt** yaitu sebesar 8.107 atau 56,10% dari total listing."
   ]
  },
  {
   "cell_type": "markdown",
   "metadata": {},
   "source": [
    "### c. Variabel `time_since_last_review`"
   ]
  },
  {
   "cell_type": "code",
   "execution_count": 25,
   "metadata": {},
   "outputs": [
    {
     "data": {
      "text/html": [
       "<div>\n",
       "<style scoped>\n",
       "    .dataframe tbody tr th:only-of-type {\n",
       "        vertical-align: middle;\n",
       "    }\n",
       "\n",
       "    .dataframe tbody tr th {\n",
       "        vertical-align: top;\n",
       "    }\n",
       "\n",
       "    .dataframe thead th {\n",
       "        text-align: right;\n",
       "    }\n",
       "</style>\n",
       "<table border=\"1\" class=\"dataframe\">\n",
       "  <thead>\n",
       "    <tr style=\"text-align: right;\">\n",
       "      <th></th>\n",
       "      <th>id</th>\n",
       "      <th>percentage (%)</th>\n",
       "    </tr>\n",
       "    <tr>\n",
       "      <th>name_latin</th>\n",
       "      <th></th>\n",
       "      <th></th>\n",
       "    </tr>\n",
       "  </thead>\n",
       "  <tbody>\n",
       "    <tr>\n",
       "      <th>latin</th>\n",
       "      <td>12609</td>\n",
       "      <td>87.259516</td>\n",
       "    </tr>\n",
       "    <tr>\n",
       "      <th>non latin</th>\n",
       "      <td>1841</td>\n",
       "      <td>12.740484</td>\n",
       "    </tr>\n",
       "  </tbody>\n",
       "</table>\n",
       "</div>"
      ],
      "text/plain": [
       "               id  percentage (%)\n",
       "name_latin                       \n",
       "latin       12609       87.259516\n",
       "non latin    1841       12.740484"
      ]
     },
     "execution_count": 25,
     "metadata": {},
     "output_type": "execute_result"
    },
    {
     "data": {
      "image/png": "[encoded data removed]",
      "text/plain": [
       "<Figure size 640x480 with 1 Axes>"
      ]
     },
     "metadata": {},
     "output_type": "display_data"
    }
   ],
   "source": [
    "tab=df[['name_latin','id']].groupby('name_latin').count().sort_values('id',ascending=False)\n",
    "tab['percentage (%)']=tab['id']/len(df)*100\n",
    "sns.barplot(data=tab,x='percentage (%)',y=tab.index,palette='tab10',hue=tab.index)\n",
    "plt.title('Barplot of name_latin')\n",
    "tab.head(15)"
   ]
  },
  {
   "cell_type": "markdown",
   "metadata": {},
   "source": [
    "Nama listing mayoritas menggunakan tulisan **latin** yaitu sebesar 12.609 atau 87,26% dari total listing."
   ]
  },
  {
   "cell_type": "markdown",
   "metadata": {},
   "source": [
    "### d. Variabel `minimum_nights_class`"
   ]
  },
  {
   "cell_type": "code",
   "execution_count": 26,
   "metadata": {},
   "outputs": [
    {
     "data": {
      "text/html": [
       "<div>\n",
       "<style scoped>\n",
       "    .dataframe tbody tr th:only-of-type {\n",
       "        vertical-align: middle;\n",
       "    }\n",
       "\n",
       "    .dataframe tbody tr th {\n",
       "        vertical-align: top;\n",
       "    }\n",
       "\n",
       "    .dataframe thead th {\n",
       "        text-align: right;\n",
       "    }\n",
       "</style>\n",
       "<table border=\"1\" class=\"dataframe\">\n",
       "  <thead>\n",
       "    <tr style=\"text-align: right;\">\n",
       "      <th></th>\n",
       "      <th>id</th>\n",
       "      <th>percentage (%)</th>\n",
       "    </tr>\n",
       "    <tr>\n",
       "      <th>minimum_nights_class</th>\n",
       "      <th></th>\n",
       "      <th></th>\n",
       "    </tr>\n",
       "  </thead>\n",
       "  <tbody>\n",
       "    <tr>\n",
       "      <th>short</th>\n",
       "      <td>10893</td>\n",
       "      <td>75.384083</td>\n",
       "    </tr>\n",
       "    <tr>\n",
       "      <th>long</th>\n",
       "      <td>3557</td>\n",
       "      <td>24.615917</td>\n",
       "    </tr>\n",
       "  </tbody>\n",
       "</table>\n",
       "</div>"
      ],
      "text/plain": [
       "                         id  percentage (%)\n",
       "minimum_nights_class                       \n",
       "short                 10893       75.384083\n",
       "long                   3557       24.615917"
      ]
     },
     "execution_count": 26,
     "metadata": {},
     "output_type": "execute_result"
    },
    {
     "data": {
      "image/png": "[encoded data removed]",
      "text/plain": [
       "<Figure size 640x480 with 1 Axes>"
      ]
     },
     "metadata": {},
     "output_type": "display_data"
    }
   ],
   "source": [
    "tab=df[['minimum_nights_class','id']].groupby('minimum_nights_class').count().sort_values('id',ascending=False)\n",
    "tab['percentage (%)']=tab['id']/len(df)*100\n",
    "sns.barplot(data=tab,x='percentage (%)',y=tab.index,palette='tab10',hue=tab.index)\n",
    "plt.title('Barplot of minimum_nights_class')\n",
    "tab.head(15)"
   ]
  },
  {
   "cell_type": "markdown",
   "metadata": {},
   "source": [
    "Listing mayoritas memiliki malam minimum sewa yang **short** yaitu sebesar 10.893 atau 75,38% dari total listing."
   ]
  },
  {
   "cell_type": "markdown",
   "metadata": {},
   "source": [
    "## 3.2. Variabel Numerikal"
   ]
  },
  {
   "cell_type": "markdown",
   "metadata": {},
   "source": [
    "Didapatkan cukup banyak outlier dalam data, dimana yang terbesar ada di variabel `minimum_nights` yaitu sebesar 19,98% dari total listing. Outlier-outlier pada data tidakndihilangkan saat analisis agar tidak ada informasi yang terbuang."
   ]
  },
  {
   "cell_type": "markdown",
   "metadata": {},
   "source": [
    "### b. Tabel Statistika Deskriptif"
   ]
  },
  {
   "cell_type": "markdown",
   "metadata": {},
   "source": [
    "Pada bagian dibawah dilakukan eksplorasi data secara umum yang bertujuan untuk mengetahui informasi data meliputi :\n",
    "*   Count (Jumlah Data)\n",
    "*   Mean (nilai rata-rata setiap data)\n",
    "*   Std (Standard Deviasi)\n",
    "*   min (nilai paling kecil dari setiap variabel)\n",
    "*   Quartil (pembagian data setiap kuartal 25%)\n",
    "*   max (nilai maksimal pada setiap variabel)"
   ]
  },
  {
   "cell_type": "code",
   "execution_count": 27,
   "metadata": {},
   "outputs": [
    {
     "data": {
      "text/html": [
       "<div>\n",
       "<style scoped>\n",
       "    .dataframe tbody tr th:only-of-type {\n",
       "        vertical-align: middle;\n",
       "    }\n",
       "\n",
       "    .dataframe tbody tr th {\n",
       "        vertical-align: top;\n",
       "    }\n",
       "\n",
       "    .dataframe thead th {\n",
       "        text-align: right;\n",
       "    }\n",
       "</style>\n",
       "<table border=\"1\" class=\"dataframe\">\n",
       "  <thead>\n",
       "    <tr style=\"text-align: right;\">\n",
       "      <th></th>\n",
       "      <th>count</th>\n",
       "      <th>mean</th>\n",
       "      <th>std</th>\n",
       "      <th>min</th>\n",
       "      <th>25%</th>\n",
       "      <th>50%</th>\n",
       "      <th>75%</th>\n",
       "      <th>max</th>\n",
       "    </tr>\n",
       "  </thead>\n",
       "  <tbody>\n",
       "    <tr>\n",
       "      <th>price</th>\n",
       "      <td>14450.0</td>\n",
       "      <td>1563.720761</td>\n",
       "      <td>942.560147</td>\n",
       "      <td>278.0</td>\n",
       "      <td>862.25</td>\n",
       "      <td>1300.0</td>\n",
       "      <td>2000.00</td>\n",
       "      <td>4720.00</td>\n",
       "    </tr>\n",
       "    <tr>\n",
       "      <th>minimum_nights</th>\n",
       "      <td>14450.0</td>\n",
       "      <td>15.383253</td>\n",
       "      <td>49.163431</td>\n",
       "      <td>1.0</td>\n",
       "      <td>1.00</td>\n",
       "      <td>1.0</td>\n",
       "      <td>7.00</td>\n",
       "      <td>1125.00</td>\n",
       "    </tr>\n",
       "    <tr>\n",
       "      <th>number_of_reviews</th>\n",
       "      <td>14450.0</td>\n",
       "      <td>17.091142</td>\n",
       "      <td>41.493117</td>\n",
       "      <td>0.0</td>\n",
       "      <td>0.00</td>\n",
       "      <td>2.0</td>\n",
       "      <td>14.00</td>\n",
       "      <td>1224.00</td>\n",
       "    </tr>\n",
       "    <tr>\n",
       "      <th>reviews_per_month</th>\n",
       "      <td>14450.0</td>\n",
       "      <td>0.524210</td>\n",
       "      <td>0.960015</td>\n",
       "      <td>0.0</td>\n",
       "      <td>0.00</td>\n",
       "      <td>0.1</td>\n",
       "      <td>0.69</td>\n",
       "      <td>19.13</td>\n",
       "    </tr>\n",
       "    <tr>\n",
       "      <th>number_of_reviews_ltm</th>\n",
       "      <td>14450.0</td>\n",
       "      <td>3.517647</td>\n",
       "      <td>8.981637</td>\n",
       "      <td>0.0</td>\n",
       "      <td>0.00</td>\n",
       "      <td>0.0</td>\n",
       "      <td>3.00</td>\n",
       "      <td>325.00</td>\n",
       "    </tr>\n",
       "  </tbody>\n",
       "</table>\n",
       "</div>"
      ],
      "text/plain": [
       "                         count         mean         std    min     25%  \\\n",
       "price                  14450.0  1563.720761  942.560147  278.0  862.25   \n",
       "minimum_nights         14450.0    15.383253   49.163431    1.0    1.00   \n",
       "number_of_reviews      14450.0    17.091142   41.493117    0.0    0.00   \n",
       "reviews_per_month      14450.0     0.524210    0.960015    0.0    0.00   \n",
       "number_of_reviews_ltm  14450.0     3.517647    8.981637    0.0    0.00   \n",
       "\n",
       "                          50%      75%      max  \n",
       "price                  1300.0  2000.00  4720.00  \n",
       "minimum_nights            1.0     7.00  1125.00  \n",
       "number_of_reviews         2.0    14.00  1224.00  \n",
       "reviews_per_month         0.1     0.69    19.13  \n",
       "number_of_reviews_ltm     0.0     3.00   325.00  "
      ]
     },
     "execution_count": 27,
     "metadata": {},
     "output_type": "execute_result"
    }
   ],
   "source": [
    "df[['price', 'minimum_nights','number_of_reviews', 'reviews_per_month', 'number_of_reviews_ltm']].describe().T"
   ]
  },
  {
   "cell_type": "markdown",
   "metadata": {},
   "source": [
    "### c. Uji Normalitas dan Skewness"
   ]
  },
  {
   "cell_type": "markdown",
   "metadata": {},
   "source": [
    "Karena data yang dimiliki kini sebanyak 15.853 baris oleh karena itu digunakan **Uji D'Agostino-Pearson** yang dapat memberikan hasil yang lebih akurat untuk data yang berjumlah lebih dari 5.000."
   ]
  },
  {
   "cell_type": "code",
   "execution_count": 28,
   "metadata": {},
   "outputs": [
    {
     "data": {
      "text/html": [
       "<div>\n",
       "<style scoped>\n",
       "    .dataframe tbody tr th:only-of-type {\n",
       "        vertical-align: middle;\n",
       "    }\n",
       "\n",
       "    .dataframe tbody tr th {\n",
       "        vertical-align: top;\n",
       "    }\n",
       "\n",
       "    .dataframe thead th {\n",
       "        text-align: right;\n",
       "    }\n",
       "</style>\n",
       "<table border=\"1\" class=\"dataframe\">\n",
       "  <thead>\n",
       "    <tr style=\"text-align: right;\">\n",
       "      <th></th>\n",
       "      <th>P-Value</th>\n",
       "      <th>Keputusan</th>\n",
       "      <th>Keterangan</th>\n",
       "      <th>Skewness</th>\n",
       "    </tr>\n",
       "  </thead>\n",
       "  <tbody>\n",
       "    <tr>\n",
       "      <th>price</th>\n",
       "      <td>0.0</td>\n",
       "      <td>Tolak H0</td>\n",
       "      <td>Tidak terdistribusi normal</td>\n",
       "      <td>1.137272</td>\n",
       "    </tr>\n",
       "    <tr>\n",
       "      <th>minimum_nights</th>\n",
       "      <td>0.0</td>\n",
       "      <td>Tolak H0</td>\n",
       "      <td>Tidak terdistribusi normal</td>\n",
       "      <td>8.082185</td>\n",
       "    </tr>\n",
       "    <tr>\n",
       "      <th>number_of_reviews</th>\n",
       "      <td>0.0</td>\n",
       "      <td>Tolak H0</td>\n",
       "      <td>Tidak terdistribusi normal</td>\n",
       "      <td>6.260124</td>\n",
       "    </tr>\n",
       "    <tr>\n",
       "      <th>reviews_per_month</th>\n",
       "      <td>0.0</td>\n",
       "      <td>Tolak H0</td>\n",
       "      <td>Tidak terdistribusi normal</td>\n",
       "      <td>4.714518</td>\n",
       "    </tr>\n",
       "    <tr>\n",
       "      <th>number_of_reviews_ltm</th>\n",
       "      <td>0.0</td>\n",
       "      <td>Tolak H0</td>\n",
       "      <td>Tidak terdistribusi normal</td>\n",
       "      <td>10.068430</td>\n",
       "    </tr>\n",
       "  </tbody>\n",
       "</table>\n",
       "</div>"
      ],
      "text/plain": [
       "                       P-Value Keputusan                  Keterangan  \\\n",
       "price                      0.0  Tolak H0  Tidak terdistribusi normal   \n",
       "minimum_nights             0.0  Tolak H0  Tidak terdistribusi normal   \n",
       "number_of_reviews          0.0  Tolak H0  Tidak terdistribusi normal   \n",
       "reviews_per_month          0.0  Tolak H0  Tidak terdistribusi normal   \n",
       "number_of_reviews_ltm      0.0  Tolak H0  Tidak terdistribusi normal   \n",
       "\n",
       "                        Skewness  \n",
       "price                   1.137272  \n",
       "minimum_nights          8.082185  \n",
       "number_of_reviews       6.260124  \n",
       "reviews_per_month       4.714518  \n",
       "number_of_reviews_ltm  10.068430  "
      ]
     },
     "metadata": {},
     "output_type": "display_data"
    }
   ],
   "source": [
    "from scipy.stats import normaltest\n",
    "from scipy import stats\n",
    "\n",
    "kolom=df[['price', 'minimum_nights','number_of_reviews', 'reviews_per_month', 'number_of_reviews_ltm']].columns\n",
    "hasil=pd.DataFrame(columns=['P-Value','Keputusan','Keterangan','Skewness'])\n",
    "for k in kolom:\n",
    "    skew=stats.skew(df[k])\n",
    "    stat, pvalue = normaltest(\n",
    "        df[k]\n",
    "    )\n",
    "    if pvalue<=0.05:\n",
    "        ket='Tidak terdistribusi normal'\n",
    "        kep='Tolak H0'\n",
    "    else:\n",
    "        ket='Terdistribusi Normal'\n",
    "        kep='Gagal tolak H0'\n",
    "    hasil.loc[k]=[pvalue,kep,ket,skew]\n",
    "display(hasil)"
   ]
  },
  {
   "cell_type": "markdown",
   "metadata": {},
   "source": [
    "Didapatkan bahwa seluruh variabel numerikal tidak terdistribusi normal dengan skewness positif."
   ]
  },
  {
   "cell_type": "markdown",
   "metadata": {},
   "source": [
    "### d. Histogram"
   ]
  },
  {
   "cell_type": "markdown",
   "metadata": {},
   "source": [
    "Untuk melihat persebaran data digunakan histogram sebagai berikut:"
   ]
  },
  {
   "cell_type": "code",
   "execution_count": 29,
   "metadata": {},
   "outputs": [
    {
     "name": "stderr",
     "output_type": "stream",
     "text": [
      "C:\\Users\\kifla\\AppData\\Local\\Temp\\ipykernel_7104\\1976806712.py:14: SettingWithCopyWarning: \n",
      "A value is trying to be set on a copy of a slice from a DataFrame.\n",
      "Try using .loc[row_indexer,col_indexer] = value instead\n",
      "\n",
      "See the caveats in the documentation: https://pandas.pydata.org/pandas-docs/stable/user_guide/indexing.html#returning-a-view-versus-a-copy\n",
      "  df2[f'{column}_standardized'] = df2[column].apply(lambda x: (x-m)/s)\n",
      "C:\\Users\\kifla\\AppData\\Local\\Temp\\ipykernel_7104\\1976806712.py:14: SettingWithCopyWarning: \n",
      "A value is trying to be set on a copy of a slice from a DataFrame.\n",
      "Try using .loc[row_indexer,col_indexer] = value instead\n",
      "\n",
      "See the caveats in the documentation: https://pandas.pydata.org/pandas-docs/stable/user_guide/indexing.html#returning-a-view-versus-a-copy\n",
      "  df2[f'{column}_standardized'] = df2[column].apply(lambda x: (x-m)/s)\n",
      "C:\\Users\\kifla\\AppData\\Local\\Temp\\ipykernel_7104\\1976806712.py:14: SettingWithCopyWarning: \n",
      "A value is trying to be set on a copy of a slice from a DataFrame.\n",
      "Try using .loc[row_indexer,col_indexer] = value instead\n",
      "\n",
      "See the caveats in the documentation: https://pandas.pydata.org/pandas-docs/stable/user_guide/indexing.html#returning-a-view-versus-a-copy\n",
      "  df2[f'{column}_standardized'] = df2[column].apply(lambda x: (x-m)/s)\n",
      "C:\\Users\\kifla\\AppData\\Local\\Temp\\ipykernel_7104\\1976806712.py:14: SettingWithCopyWarning: \n",
      "A value is trying to be set on a copy of a slice from a DataFrame.\n",
      "Try using .loc[row_indexer,col_indexer] = value instead\n",
      "\n",
      "See the caveats in the documentation: https://pandas.pydata.org/pandas-docs/stable/user_guide/indexing.html#returning-a-view-versus-a-copy\n",
      "  df2[f'{column}_standardized'] = df2[column].apply(lambda x: (x-m)/s)\n",
      "C:\\Users\\kifla\\AppData\\Local\\Temp\\ipykernel_7104\\1976806712.py:14: SettingWithCopyWarning: \n",
      "A value is trying to be set on a copy of a slice from a DataFrame.\n",
      "Try using .loc[row_indexer,col_indexer] = value instead\n",
      "\n",
      "See the caveats in the documentation: https://pandas.pydata.org/pandas-docs/stable/user_guide/indexing.html#returning-a-view-versus-a-copy\n",
      "  df2[f'{column}_standardized'] = df2[column].apply(lambda x: (x-m)/s)\n"
     ]
    },
    {
     "data": {
      "image/png": "[encoded data removed]",
      "text/plain": [
       "<Figure size 1200x1000 with 6 Axes>"
      ]
     },
     "metadata": {},
     "output_type": "display_data"
    }
   ],
   "source": [
    "# Sample DataFrame with multiple numerical columns\n",
    "df2 = df[['price', 'minimum_nights','number_of_reviews', 'reviews_per_month', 'number_of_reviews_ltm']]\n",
    "num_cols = len(df2.columns)\n",
    "\n",
    "# Create a figure with subplots\n",
    "fig, axes = plt.subplots(nrows=3, ncols=2, figsize=(12, 10))\n",
    "# Loop through each column, standardize and plot histogram\n",
    "color=('skyblue','red','Lime','Teal','yellow')\n",
    "\n",
    "for i, column in enumerate(df2.columns):\n",
    "    # Standardize the column\n",
    "    m=df2[column].mean()\n",
    "    s=df2[column].std()\n",
    "    df2[f'{column}_standardized'] = df2[column].apply(lambda x: (x-m)/s)\n",
    "    \n",
    "    # Plot histogram\n",
    "\n",
    "    ax = axes[i//2,i%2]\n",
    "    ax.hist(df2[f'{column}_standardized'], bins=50, range=(-1, 5), edgecolor='k', alpha=0.7,color=color[i])\n",
    "    ax.set_xlabel('Standardized Value')\n",
    "    ax.set_ylabel('Frequency')\n",
    "    ax.set_title(f'Histogram of Standardized Values for {column}')\n",
    "    ax.grid(True)\n",
    "axes[2,1].axis('off')\n",
    "# Adjust layout\n",
    "plt.tight_layout()\n",
    "plt.show()\n"
   ]
  },
  {
   "cell_type": "markdown",
   "metadata": {},
   "source": [
    "Sesuai dengan hasil uji dan nilai skewness, data tidak berdistribusi normal dan cenderung memiliki right-skew."
   ]
  },
  {
   "cell_type": "markdown",
   "metadata": {},
   "source": [
    "### e. Korelasi"
   ]
  },
  {
   "cell_type": "markdown",
   "metadata": {},
   "source": [
    "Kemudian hubungan antara variabel-variabel numerik dinilai dengan menggunakan korelasi **spearman**, korelasi **spearman** dipilih karena data tidak berdistribusi normal."
   ]
  },
  {
   "cell_type": "code",
   "execution_count": 30,
   "metadata": {},
   "outputs": [
    {
     "data": {
      "image/png": "[encoded data removed]",
      "text/plain": [
       "<Figure size 640x480 with 2 Axes>"
      ]
     },
     "metadata": {},
     "output_type": "display_data"
    }
   ],
   "source": [
    "df_corr = df[['price', 'minimum_nights','number_of_reviews', 'reviews_per_month', 'number_of_reviews_ltm']].corr(method = 'spearman')\n",
    "mask = np.triu(np.ones_like(df_corr, dtype=bool))\n",
    "sns.heatmap(df_corr, cmap = 'viridis', vmin = -1, vmax = 1, center = 0, annot=True, fmt=\".2f\", square=True, linewidths=.5, mask = mask)\n",
    "plt.show()"
   ]
  },
  {
   "cell_type": "markdown",
   "metadata": {},
   "source": [
    "Dari korelasi diatas dapat dikatakan :\n",
    "* Terdapat hubungan berbanding lurus yang **sangat kuat** yang antara variabel `reviews_per_month` dengan variabel `number_of_reviews` dan `number_of_reviews_ltm`.\n",
    "* Terdapat hubungan berbanding lurus yang **kuat** yang antara variabel `number_of_reviews` dengan variabel `number_of_reviews_ltm`."
   ]
  },
  {
   "cell_type": "markdown",
   "metadata": {},
   "source": [
    "# 4. Analisis"
   ]
  },
  {
   "cell_type": "markdown",
   "metadata": {},
   "source": [
    "## 4.1. Analisis Harga"
   ]
  },
  {
   "cell_type": "markdown",
   "metadata": {},
   "source": [
    "Analisis harga bertujuan untuk mengetahui variabel apa yang mempengaruhi dan bagaimana variabel tersebut mempengaruhi median harga. Pemilihan median sebagai *measures of central tendency* dikarenakan data tidak terdistribusi normal."
   ]
  },
  {
   "cell_type": "markdown",
   "metadata": {},
   "source": [
    "### a. Hubungan harga dengan lokasi"
   ]
  },
  {
   "cell_type": "code",
   "execution_count": 31,
   "metadata": {},
   "outputs": [
    {
     "data": {
      "text/html": [
       "<div>\n",
       "<style scoped>\n",
       "    .dataframe tbody tr th:only-of-type {\n",
       "        vertical-align: middle;\n",
       "    }\n",
       "\n",
       "    .dataframe tbody tr th {\n",
       "        vertical-align: top;\n",
       "    }\n",
       "\n",
       "    .dataframe thead th {\n",
       "        text-align: right;\n",
       "    }\n",
       "</style>\n",
       "<table border=\"1\" class=\"dataframe\">\n",
       "  <thead>\n",
       "    <tr style=\"text-align: right;\">\n",
       "      <th></th>\n",
       "      <th>price</th>\n",
       "    </tr>\n",
       "    <tr>\n",
       "      <th>neighbourhood</th>\n",
       "      <th></th>\n",
       "    </tr>\n",
       "  </thead>\n",
       "  <tbody>\n",
       "    <tr>\n",
       "      <th>Parthum Wan</th>\n",
       "      <td>1946.5</td>\n",
       "    </tr>\n",
       "    <tr>\n",
       "      <th>Bang Rak</th>\n",
       "      <td>1753.5</td>\n",
       "    </tr>\n",
       "    <tr>\n",
       "      <th>Vadhana</th>\n",
       "      <td>1732.0</td>\n",
       "    </tr>\n",
       "    <tr>\n",
       "      <th>Samphanthawong</th>\n",
       "      <td>1714.0</td>\n",
       "    </tr>\n",
       "    <tr>\n",
       "      <th>Khlong Toei</th>\n",
       "      <td>1581.0</td>\n",
       "    </tr>\n",
       "    <tr>\n",
       "      <th>Ratchathewi</th>\n",
       "      <td>1514.0</td>\n",
       "    </tr>\n",
       "    <tr>\n",
       "      <th>Thawi Watthana</th>\n",
       "      <td>1500.0</td>\n",
       "    </tr>\n",
       "    <tr>\n",
       "      <th>Taling Chan</th>\n",
       "      <td>1381.0</td>\n",
       "    </tr>\n",
       "    <tr>\n",
       "      <th>Yan na wa</th>\n",
       "      <td>1370.0</td>\n",
       "    </tr>\n",
       "    <tr>\n",
       "      <th>Pom Prap Sattru Phai</th>\n",
       "      <td>1351.5</td>\n",
       "    </tr>\n",
       "  </tbody>\n",
       "</table>\n",
       "</div>"
      ],
      "text/plain": [
       "                       price\n",
       "neighbourhood               \n",
       "Parthum Wan           1946.5\n",
       "Bang Rak              1753.5\n",
       "Vadhana               1732.0\n",
       "Samphanthawong        1714.0\n",
       "Khlong Toei           1581.0\n",
       "Ratchathewi           1514.0\n",
       "Thawi Watthana        1500.0\n",
       "Taling Chan           1381.0\n",
       "Yan na wa             1370.0\n",
       "Pom Prap Sattru Phai  1351.5"
      ]
     },
     "metadata": {},
     "output_type": "display_data"
    },
    {
     "data": {
      "image/png": "[encoded data removed]",
      "text/plain": [
       "<Figure size 640x480 with 1 Axes>"
      ]
     },
     "metadata": {},
     "output_type": "display_data"
    }
   ],
   "source": [
    "def pivot_price(df,x):\n",
    "    return df[[x,'price']].groupby(x).median().sort_values('price',ascending=False)\\\n",
    "    \n",
    "def barplot_price(df):\n",
    "    sns.barplot(data=df,x='price',y=df.index,palette='tab10',hue=df.index)\n",
    "    plt.title(f'Barplot of {df.index.name}')    \n",
    "display(pivot_price(df,'neighbourhood').head(10))\n",
    "barplot_price(pivot_price(df,'neighbourhood').head(10))\n",
    "\n",
    "def box_hist(df,x):\n",
    "    fig, ax = plt.subplots(1, 2, figsize=(12, 6))\n",
    "\n",
    "    sns.boxplot(x = x, y = 'price', data = df, palette = 'tab10', ax=ax[0],hue=x)\n",
    "    ax[0].set_title(f'Boxplot price Berdasarkan {x}')\n",
    "    sns.histplot(df, x=\"price\", hue=x,multiple='layer', bins=9, stat='percent', palette='tab10',ax = ax[1],common_norm=False,kde=True,edgecolor=None,alpha=0.4)\n",
    "    for line in plt.gca().get_lines():\n",
    "        if line.get_linestyle() == '-':  # Check if it's a solid line (KDE line)\n",
    "            line.set_linewidth(2)\n",
    "    ax[1].set_title(f'Histogram price Berdasarkan {x}')\n",
    "    ax[1].set_ylabel('Percentage', rotation = 90)\n",
    "\n",
    "    plt.tight_layout(rect=[0, 0, 1, 0.96])\n",
    "    plt.show()"
   ]
  },
  {
   "cell_type": "markdown",
   "metadata": {},
   "source": [
    "Didapatkan bahwa nilai median dari price dipengaruhi oleh variabel lokasinya, dimana 5 lokasi dengan harga tertinggi yaitu Parthum Wan, Bang Rak, Vadhana, Samphanthawong,Khlong Toei."
   ]
  },
  {
   "cell_type": "markdown",
   "metadata": {},
   "source": [
    "### b. Hubungan antara harga dengan tipe kamar"
   ]
  },
  {
   "cell_type": "code",
   "execution_count": 32,
   "metadata": {},
   "outputs": [
    {
     "data": {
      "text/html": [
       "<div>\n",
       "<style scoped>\n",
       "    .dataframe tbody tr th:only-of-type {\n",
       "        vertical-align: middle;\n",
       "    }\n",
       "\n",
       "    .dataframe tbody tr th {\n",
       "        vertical-align: top;\n",
       "    }\n",
       "\n",
       "    .dataframe thead th {\n",
       "        text-align: right;\n",
       "    }\n",
       "</style>\n",
       "<table border=\"1\" class=\"dataframe\">\n",
       "  <thead>\n",
       "    <tr style=\"text-align: right;\">\n",
       "      <th></th>\n",
       "      <th>price</th>\n",
       "    </tr>\n",
       "    <tr>\n",
       "      <th>room_type</th>\n",
       "      <th></th>\n",
       "    </tr>\n",
       "  </thead>\n",
       "  <tbody>\n",
       "    <tr>\n",
       "      <th>Entire home/apt</th>\n",
       "      <td>1480.0</td>\n",
       "    </tr>\n",
       "    <tr>\n",
       "      <th>Hotel room</th>\n",
       "      <td>1467.0</td>\n",
       "    </tr>\n",
       "    <tr>\n",
       "      <th>Private room</th>\n",
       "      <td>1177.0</td>\n",
       "    </tr>\n",
       "    <tr>\n",
       "      <th>Shared room</th>\n",
       "      <td>500.0</td>\n",
       "    </tr>\n",
       "  </tbody>\n",
       "</table>\n",
       "</div>"
      ],
      "text/plain": [
       "                  price\n",
       "room_type              \n",
       "Entire home/apt  1480.0\n",
       "Hotel room       1467.0\n",
       "Private room     1177.0\n",
       "Shared room       500.0"
      ]
     },
     "metadata": {},
     "output_type": "display_data"
    },
    {
     "data": {
      "image/png": "[encoded data removed]",
      "text/plain": [
       "<Figure size 1200x600 with 2 Axes>"
      ]
     },
     "metadata": {},
     "output_type": "display_data"
    }
   ],
   "source": [
    "display(pivot_price(df,'room_type').head(15))\n",
    "box_hist(df,'room_type')"
   ]
  },
  {
   "cell_type": "markdown",
   "metadata": {},
   "source": [
    "Dapat dilihat secara median harga dari tipe kamar rumah/apartemen adalah yang tertinggi, sedangkan harga hotel memiliki median yang sedikit lebih rendah namun dengan persebaran yang lebih luas, sedangkan untuk tipe kamar 'Private Room' memiliki median yang lebih rendah dan sebarang yang lebih sempit dibandingkan dengan tipe rumah/apartemen, dan yang terakhir tipe 'Shared room' memiliki harga yang jauh lebih rendah dari ketiga tipe lain dengan persebaran yang sempit."
   ]
  },
  {
   "cell_type": "markdown",
   "metadata": {},
   "source": [
    "### c. Hubungan antara harga dengan minimum malam sewa"
   ]
  },
  {
   "cell_type": "code",
   "execution_count": 33,
   "metadata": {},
   "outputs": [
    {
     "data": {
      "text/html": [
       "<div>\n",
       "<style scoped>\n",
       "    .dataframe tbody tr th:only-of-type {\n",
       "        vertical-align: middle;\n",
       "    }\n",
       "\n",
       "    .dataframe tbody tr th {\n",
       "        vertical-align: top;\n",
       "    }\n",
       "\n",
       "    .dataframe thead th {\n",
       "        text-align: right;\n",
       "    }\n",
       "</style>\n",
       "<table border=\"1\" class=\"dataframe\">\n",
       "  <thead>\n",
       "    <tr style=\"text-align: right;\">\n",
       "      <th></th>\n",
       "      <th>price</th>\n",
       "    </tr>\n",
       "    <tr>\n",
       "      <th>minimum_nights_class</th>\n",
       "      <th></th>\n",
       "    </tr>\n",
       "  </thead>\n",
       "  <tbody>\n",
       "    <tr>\n",
       "      <th>short</th>\n",
       "      <td>1380.0</td>\n",
       "    </tr>\n",
       "    <tr>\n",
       "      <th>long</th>\n",
       "      <td>1200.0</td>\n",
       "    </tr>\n",
       "  </tbody>\n",
       "</table>\n",
       "</div>"
      ],
      "text/plain": [
       "                       price\n",
       "minimum_nights_class        \n",
       "short                 1380.0\n",
       "long                  1200.0"
      ]
     },
     "metadata": {},
     "output_type": "display_data"
    },
    {
     "data": {
      "image/png": "[encoded data removed]",
      "text/plain": [
       "<Figure size 1200x600 with 2 Axes>"
      ]
     },
     "metadata": {},
     "output_type": "display_data"
    }
   ],
   "source": [
    "display(pivot_price(df,'minimum_nights_class').head(15))\n",
    "box_hist(df,'minimum_nights_class')"
   ]
  },
  {
   "cell_type": "markdown",
   "metadata": {},
   "source": [
    "Didapatkan median harga dari minimum malam sewa panjang lebih rendah jika dibandingkan dengan yang pendek dan memiliki persebaran yang lebih sempit, kemudian persentase jumlah listing minimum malam sewa panjang lebih banyak disekitar harga minimum hingga 1.600 baht, sedangkan untuk harga 1.600 baht keatas lebih besar persentase yang pendek."
   ]
  },
  {
   "cell_type": "markdown",
   "metadata": {},
   "source": [
    "### d. Pengelompokan harga"
   ]
  },
  {
   "cell_type": "markdown",
   "metadata": {},
   "source": [
    "Untuk analisis selanjutnya dibuat klasifikasi harga dengan quartil 1 dan quartil 3 berdasarkan lokasi, berikut merupakan klasifikasinya :\n",
    "\n",
    "|Label|Arti|\n",
    "|--|--|\n",
    "|budget|Harga dibawah Q1 kelompok lokasi|\n",
    "|standard|Harga diantara Q1 dan Q3 lokasi|\n",
    "|premium|Harga diatas Q3 kelompok lokasi|"
   ]
  },
  {
   "cell_type": "code",
   "execution_count": 34,
   "metadata": {},
   "outputs": [
    {
     "data": {
      "text/html": [
       "<div>\n",
       "<style scoped>\n",
       "    .dataframe tbody tr th:only-of-type {\n",
       "        vertical-align: middle;\n",
       "    }\n",
       "\n",
       "    .dataframe tbody tr th {\n",
       "        vertical-align: top;\n",
       "    }\n",
       "\n",
       "    .dataframe thead th {\n",
       "        text-align: right;\n",
       "    }\n",
       "</style>\n",
       "<table border=\"1\" class=\"dataframe\">\n",
       "  <thead>\n",
       "    <tr style=\"text-align: right;\">\n",
       "      <th></th>\n",
       "      <th>Q3</th>\n",
       "      <th>Q1</th>\n",
       "    </tr>\n",
       "    <tr>\n",
       "      <th>neighbourhood</th>\n",
       "      <th></th>\n",
       "      <th></th>\n",
       "    </tr>\n",
       "  </thead>\n",
       "  <tbody>\n",
       "    <tr>\n",
       "      <th>Bang Bon</th>\n",
       "      <td>2000.00</td>\n",
       "      <td>900.00</td>\n",
       "    </tr>\n",
       "    <tr>\n",
       "      <th>Bang Kapi</th>\n",
       "      <td>1500.00</td>\n",
       "      <td>600.00</td>\n",
       "    </tr>\n",
       "    <tr>\n",
       "      <th>Bang Khae</th>\n",
       "      <td>1500.00</td>\n",
       "      <td>612.50</td>\n",
       "    </tr>\n",
       "    <tr>\n",
       "      <th>Bang Khen</th>\n",
       "      <td>1500.00</td>\n",
       "      <td>600.00</td>\n",
       "    </tr>\n",
       "    <tr>\n",
       "      <th>Bang Kho laen</th>\n",
       "      <td>1807.75</td>\n",
       "      <td>825.25</td>\n",
       "    </tr>\n",
       "  </tbody>\n",
       "</table>\n",
       "</div>"
      ],
      "text/plain": [
       "                    Q3      Q1\n",
       "neighbourhood                 \n",
       "Bang Bon       2000.00  900.00\n",
       "Bang Kapi      1500.00  600.00\n",
       "Bang Khae      1500.00  612.50\n",
       "Bang Khen      1500.00  600.00\n",
       "Bang Kho laen  1807.75  825.25"
      ]
     },
     "execution_count": 34,
     "metadata": {},
     "output_type": "execute_result"
    }
   ],
   "source": [
    "Q3=df[['price','neighbourhood']].groupby(['neighbourhood']).agg(lambda x: x.quantile(0.75))\n",
    "Q3.rename(columns={'price': 'Q3'}, inplace=True)\n",
    "Q1=df[['price','neighbourhood']].groupby(['neighbourhood']).agg(lambda x: x.quantile(0.25))\n",
    "Q1.rename(columns={'price': 'Q1'}, inplace=True)\n",
    "Klasifikasi = pd.concat([Q3, Q1], axis=1)\n",
    "Klasifikasi.head()"
   ]
  },
  {
   "cell_type": "code",
   "execution_count": 35,
   "metadata": {},
   "outputs": [],
   "source": [
    "def klasifikasi_price(x):\n",
    "    n=x['neighbourhood']\n",
    "    Q1=Klasifikasi.loc[(n)]['Q1']\n",
    "    Q3=Klasifikasi.loc[(n)]['Q3']\n",
    "    if Q1==Q3:\n",
    "        return 'standard'\n",
    "    elif x['price']>Q3:\n",
    "        return 'premium'\n",
    "    elif x['price']>=Q1:\n",
    "        return 'standard'\n",
    "    else:\n",
    "        return 'budget'"
   ]
  },
  {
   "cell_type": "code",
   "execution_count": 36,
   "metadata": {},
   "outputs": [],
   "source": [
    "df['price_class']=df.apply(klasifikasi_price,axis=1)"
   ]
  },
  {
   "cell_type": "markdown",
   "metadata": {},
   "source": [
    "## 4.2. Analisis Tingkat Booking Tinggi"
   ]
  },
  {
   "cell_type": "markdown",
   "metadata": {},
   "source": [
    "### a. Klasifikasi Tingkat Booking"
   ]
  },
  {
   "cell_type": "markdown",
   "metadata": {},
   "source": [
    "Untuk dapat membedakan mana yang memiliki tingkat booking tinggi dan rendah, digunakan variabel `number_of_reviews_ltm` karena:\n",
    "1. Tidak terdapat kolom jumlah hari terisi/terbooking dalam satuan waktu.\n",
    "2. Jumlah review dapat menjadi tolak ukur tingkat booking dikarenakan orang yang dapat mereview hanya orang yang telah sukses memesan dan membayar pesanan di Airbnb. Sehingga jika jumlah booking yang sukses makin banyak, semakin banyak pula peluang review bertambah.\n",
    "3. Merupakan data terbaru yaitu 1 tahun terakhir dan memiliki jangka waktu yang sama (1 tahun) untuk setiap listing sehingga dapat menjadi tolak ukur banyaknya pesanan dalam satuan waktu.\n",
    "4. Dapat mewakili variabel `number_of_reviews` dan `reviews_per_month` karena memiliki korelasi yang kuat\n",
    "\n",
    "Namun variabel `number_of_reviews_ltm` juga memiliki kelemahan, dimana apabila jangka waktu penyewaan tempat tinggal panjang, maka otomatis jumlah penyewa dan review semakin sedikit dikarenakan tempat tinggal diisi oleh orang yang sama dengan waktu yang panjang. Sehingga dalam klasifikasi tingkat booking dipisah antara minimum malam sewa pendek dan panjang. Klasifikasi ini menandai tingkat booking tinggi apabila `number_of_reviews_ltm` berada di 15% tertinggi."
   ]
  },
  {
   "cell_type": "code",
   "execution_count": 37,
   "metadata": {},
   "outputs": [
    {
     "data": {
      "text/html": [
       "<div>\n",
       "<style scoped>\n",
       "    .dataframe tbody tr th:only-of-type {\n",
       "        vertical-align: middle;\n",
       "    }\n",
       "\n",
       "    .dataframe tbody tr th {\n",
       "        vertical-align: top;\n",
       "    }\n",
       "\n",
       "    .dataframe thead th {\n",
       "        text-align: right;\n",
       "    }\n",
       "</style>\n",
       "<table border=\"1\" class=\"dataframe\">\n",
       "  <thead>\n",
       "    <tr style=\"text-align: right;\">\n",
       "      <th></th>\n",
       "      <th>number_of_reviews_ltm</th>\n",
       "    </tr>\n",
       "    <tr>\n",
       "      <th>minimum_nights_class</th>\n",
       "      <th></th>\n",
       "    </tr>\n",
       "  </thead>\n",
       "  <tbody>\n",
       "    <tr>\n",
       "      <th>long</th>\n",
       "      <td>4.0</td>\n",
       "    </tr>\n",
       "    <tr>\n",
       "      <th>short</th>\n",
       "      <td>9.0</td>\n",
       "    </tr>\n",
       "  </tbody>\n",
       "</table>\n",
       "</div>"
      ],
      "text/plain": [
       "                      number_of_reviews_ltm\n",
       "minimum_nights_class                       \n",
       "long                                    4.0\n",
       "short                                   9.0"
      ]
     },
     "execution_count": 37,
     "metadata": {},
     "output_type": "execute_result"
    }
   ],
   "source": [
    "TB=df[['minimum_nights_class', 'number_of_reviews_ltm']].groupby('minimum_nights_class').agg(lambda x: x.quantile(0.85))\n",
    "TB"
   ]
  },
  {
   "cell_type": "code",
   "execution_count": 38,
   "metadata": {},
   "outputs": [],
   "source": [
    "def booking_rate(x):\n",
    "    limit=0\n",
    "    if x['minimum_nights_class']=='short':\n",
    "        limit=TB.loc[x['minimum_nights_class']]['number_of_reviews_ltm']\n",
    "        if x['number_of_reviews_ltm']>=limit:\n",
    "            return 'top 15%'\n",
    "        else:\n",
    "            return 'not'\n",
    "\n",
    "    elif x['minimum_nights_class']=='long':\n",
    "        limit=TB.loc[x['minimum_nights_class']]['number_of_reviews_ltm']\n",
    "        if x['number_of_reviews_ltm']>=limit:\n",
    "            return 'top 15%'\n",
    "        else:\n",
    "            return 'not'"
   ]
  },
  {
   "cell_type": "code",
   "execution_count": 39,
   "metadata": {},
   "outputs": [],
   "source": [
    "df['booking_rate']=df.apply(booking_rate,axis=1)"
   ]
  },
  {
   "cell_type": "markdown",
   "metadata": {},
   "source": [
    "### b. Analisis Tingkat Booking berdasarkan Harga"
   ]
  },
  {
   "cell_type": "code",
   "execution_count": 49,
   "metadata": {},
   "outputs": [
    {
     "data": {
      "text/html": [
       "<div>\n",
       "<style scoped>\n",
       "    .dataframe tbody tr th:only-of-type {\n",
       "        vertical-align: middle;\n",
       "    }\n",
       "\n",
       "    .dataframe tbody tr th {\n",
       "        vertical-align: top;\n",
       "    }\n",
       "\n",
       "    .dataframe thead th {\n",
       "        text-align: right;\n",
       "    }\n",
       "</style>\n",
       "<table border=\"1\" class=\"dataframe\">\n",
       "  <thead>\n",
       "    <tr style=\"text-align: right;\">\n",
       "      <th></th>\n",
       "      <th>price</th>\n",
       "    </tr>\n",
       "    <tr>\n",
       "      <th>booking_rate</th>\n",
       "      <th></th>\n",
       "    </tr>\n",
       "  </thead>\n",
       "  <tbody>\n",
       "    <tr>\n",
       "      <th>top 15%</th>\n",
       "      <td>1500.0</td>\n",
       "    </tr>\n",
       "    <tr>\n",
       "      <th>not</th>\n",
       "      <td>1280.0</td>\n",
       "    </tr>\n",
       "  </tbody>\n",
       "</table>\n",
       "</div>"
      ],
      "text/plain": [
       "               price\n",
       "booking_rate        \n",
       "top 15%       1500.0\n",
       "not           1280.0"
      ]
     },
     "metadata": {},
     "output_type": "display_data"
    },
    {
     "data": {
      "image/png": "[encoded data removed]",
      "text/plain": [
       "<Figure size 1200x600 with 2 Axes>"
      ]
     },
     "metadata": {},
     "output_type": "display_data"
    }
   ],
   "source": [
    "display(pivot_price(df,'booking_rate').head(15))\n",
    "box_hist(df,'booking_rate')"
   ]
  },
  {
   "cell_type": "markdown",
   "metadata": {},
   "source": [
    "Didapatkan median harga dari tingkat booking top 15% lebih tinggi dari yang not dengan sebaran yang tidak berbeda jauh."
   ]
  },
  {
   "cell_type": "code",
   "execution_count": 40,
   "metadata": {},
   "outputs": [
    {
     "data": {
      "text/html": [
       "<div>\n",
       "<style scoped>\n",
       "    .dataframe tbody tr th:only-of-type {\n",
       "        vertical-align: middle;\n",
       "    }\n",
       "\n",
       "    .dataframe tbody tr th {\n",
       "        vertical-align: top;\n",
       "    }\n",
       "\n",
       "    .dataframe thead th {\n",
       "        text-align: right;\n",
       "    }\n",
       "</style>\n",
       "<table border=\"1\" class=\"dataframe\">\n",
       "  <thead>\n",
       "    <tr style=\"text-align: right;\">\n",
       "      <th></th>\n",
       "      <th>premium</th>\n",
       "      <th>standard</th>\n",
       "      <th>budget</th>\n",
       "    </tr>\n",
       "  </thead>\n",
       "  <tbody>\n",
       "    <tr>\n",
       "      <th>short</th>\n",
       "      <td>29.269729</td>\n",
       "      <td>54.240283</td>\n",
       "      <td>16.489988</td>\n",
       "    </tr>\n",
       "    <tr>\n",
       "      <th>long</th>\n",
       "      <td>11.627907</td>\n",
       "      <td>61.001789</td>\n",
       "      <td>27.370304</td>\n",
       "    </tr>\n",
       "  </tbody>\n",
       "</table>\n",
       "</div>"
      ],
      "text/plain": [
       "         premium   standard     budget\n",
       "short  29.269729  54.240283  16.489988\n",
       "long   11.627907  61.001789  27.370304"
      ]
     },
     "metadata": {},
     "output_type": "display_data"
    },
    {
     "data": {
      "image/png": "[encoded data removed]",
      "text/plain": [
       "<Figure size 1000x600 with 1 Axes>"
      ]
     },
     "metadata": {},
     "output_type": "display_data"
    }
   ],
   "source": [
    "tab=pd.DataFrame(columns=['premium','standard','budget'])\n",
    "for i in df['minimum_nights_class'].unique():\n",
    "    a=df[df['booking_rate']=='top 15%']\n",
    "    count=len(a[a['minimum_nights_class']==i])\n",
    "    if count!=0:\n",
    "        premium=len(a[(a['minimum_nights_class']==i)&(a['price_class']=='premium')])/count*100\n",
    "        standard=len(a[(a['minimum_nights_class']==i)&(a['price_class']=='standard')])/count*100\n",
    "        budget=len(a[(a['minimum_nights_class']==i)&(a['price_class']=='budget')])/count*100\n",
    "        \n",
    "        tab.loc[i]=[premium,standard,budget]\n",
    "display(tab)\n",
    "tab\n",
    "# Plotting\n",
    "fig, ax = plt.subplots(figsize=(10, 6))\n",
    "# Define the bar width\n",
    "bar_width = 0.2\n",
    "index = np.arange(len(tab))  # The label locations\n",
    "# Plot each product\n",
    "for i, product in enumerate(tab.columns):\n",
    "    ax.bar(index + i * bar_width, tab[product], bar_width, label=product)\n",
    "# Adding labels, title, and legend\n",
    "ax.set_ylabel('Percentage')\n",
    "ax.set_xlabel('minimum_nights_class')\n",
    "ax.set_title('Price Class by Minimum Night Class of top 15% Booking Rate')\n",
    "ax.set_xticks(index + bar_width)\n",
    "ax.set_xticklabels(tab.index)\n",
    "ax.legend(title='Price Class')\n",
    "plt.tight_layout()\n",
    "plt.show()"
   ]
  },
  {
   "cell_type": "markdown",
   "metadata": {},
   "source": [
    "Dari tabel dan grafik diatas didapatkan bahwa:\n",
    "1. Penyewa jangka pendek lebih suka untuk memesan tempat dengan harga premium dibandingkan budget.\n",
    "2. Penyewa jangka panjang lebih suka untuk memesan tempat dengan harga budget dibandingkan premium.\n",
    "3. Penyewa jangka panjang maupun jangka pendek keduanya memiliki preferensi untuk menyewa tempat dengan harga standard."
   ]
  },
  {
   "cell_type": "markdown",
   "metadata": {},
   "source": [
    "### c. Analisis Tingkat Booking berdasarkan Tipe Kamar"
   ]
  },
  {
   "cell_type": "code",
   "execution_count": 41,
   "metadata": {},
   "outputs": [
    {
     "data": {
      "text/html": [
       "<div>\n",
       "<style scoped>\n",
       "    .dataframe tbody tr th:only-of-type {\n",
       "        vertical-align: middle;\n",
       "    }\n",
       "\n",
       "    .dataframe tbody tr th {\n",
       "        vertical-align: top;\n",
       "    }\n",
       "\n",
       "    .dataframe thead th {\n",
       "        text-align: right;\n",
       "    }\n",
       "</style>\n",
       "<table border=\"1\" class=\"dataframe\">\n",
       "  <thead>\n",
       "    <tr style=\"text-align: right;\">\n",
       "      <th></th>\n",
       "      <th>Entire home/apt</th>\n",
       "      <th>Private room</th>\n",
       "      <th>Hotel room</th>\n",
       "      <th>Shared room</th>\n",
       "    </tr>\n",
       "  </thead>\n",
       "  <tbody>\n",
       "    <tr>\n",
       "      <th>short</th>\n",
       "      <td>81.272085</td>\n",
       "      <td>16.431095</td>\n",
       "      <td>1.943463</td>\n",
       "      <td>0.353357</td>\n",
       "    </tr>\n",
       "    <tr>\n",
       "      <th>long</th>\n",
       "      <td>94.812165</td>\n",
       "      <td>4.830054</td>\n",
       "      <td>0.357782</td>\n",
       "      <td>0.000000</td>\n",
       "    </tr>\n",
       "  </tbody>\n",
       "</table>\n",
       "</div>"
      ],
      "text/plain": [
       "       Entire home/apt  Private room  Hotel room  Shared room\n",
       "short        81.272085     16.431095    1.943463     0.353357\n",
       "long         94.812165      4.830054    0.357782     0.000000"
      ]
     },
     "metadata": {},
     "output_type": "display_data"
    },
    {
     "data": {
      "image/png": "[encoded data removed]",
      "text/plain": [
       "<Figure size 1000x600 with 1 Axes>"
      ]
     },
     "metadata": {},
     "output_type": "display_data"
    }
   ],
   "source": [
    "tab=pd.DataFrame(columns=['Entire home/apt', 'Private room', 'Hotel room', 'Shared room'])\n",
    "for i in df['minimum_nights_class'].unique():\n",
    "    a=df[df['booking_rate']=='top 15%']\n",
    "    count=len(a[a['minimum_nights_class']==i])\n",
    "    if count!=0:\n",
    "        HA=len(a[(a['minimum_nights_class']==i)&(a['room_type']=='Entire home/apt')])/count*100\n",
    "        PR=len(a[(a['minimum_nights_class']==i)&(a['room_type']=='Private room')])/count*100\n",
    "        HR=len(a[(a['minimum_nights_class']==i)&(a['room_type']=='Hotel room')])/count*100\n",
    "        SR=len(a[(a['minimum_nights_class']==i)&(a['room_type']=='Shared room')])/count*100\n",
    "        \n",
    "        tab.loc[i]=[HA,PR,HR,SR]\n",
    "display(tab)\n",
    "tab\n",
    "# Plotting\n",
    "fig, ax = plt.subplots(figsize=(10, 6))\n",
    "# Define the bar width\n",
    "bar_width = 0.2\n",
    "index = np.arange(len(tab))  # The label locations\n",
    "# Plot each product\n",
    "for i, product in enumerate(tab.columns):\n",
    "    ax.bar(index + i * bar_width, tab[product], bar_width, label=product)\n",
    "# Adding labels, title, and legend\n",
    "ax.set_ylabel('Percentage')\n",
    "ax.set_xlabel('minimum_nights_class')\n",
    "ax.set_title('Room Type by Minimum Night Class of top 15% Booking Rate')\n",
    "ax.set_xticks(index + bar_width)\n",
    "ax.set_xticklabels(tab.index)\n",
    "ax.legend(title='Room Type')\n",
    "plt.tight_layout()\n",
    "plt.show()"
   ]
  },
  {
   "cell_type": "markdown",
   "metadata": {},
   "source": [
    "Dari tabel dan grafik diatas didapatkan bahwa penyewa jangka panjang maupun jangka pendek keduanya memiliki preferensi untuk menyewa tempat dengan tipe rumah/apartemen diikuti dengan private room, hotel room, dan yang terakhir shared room. Kemudian dapat dilihat bahwa penyewa jangka panjang memiliki persentse yang jauh lebih rendah dalam menyewa Private Room dan shared room karena penyewa jangka panjang cenderung memilih untuk tinggal tanpa harus berbagi tempat dengan orang lain."
   ]
  },
  {
   "cell_type": "markdown",
   "metadata": {},
   "source": [
    "### d. Analisis Tingkat Booking berdasarkan Nama Listing"
   ]
  },
  {
   "cell_type": "code",
   "execution_count": 42,
   "metadata": {},
   "outputs": [
    {
     "data": {
      "text/html": [
       "<div>\n",
       "<style scoped>\n",
       "    .dataframe tbody tr th:only-of-type {\n",
       "        vertical-align: middle;\n",
       "    }\n",
       "\n",
       "    .dataframe tbody tr th {\n",
       "        vertical-align: top;\n",
       "    }\n",
       "\n",
       "    .dataframe thead th {\n",
       "        text-align: right;\n",
       "    }\n",
       "</style>\n",
       "<table border=\"1\" class=\"dataframe\">\n",
       "  <thead>\n",
       "    <tr style=\"text-align: right;\">\n",
       "      <th></th>\n",
       "      <th>latin</th>\n",
       "      <th>non latin</th>\n",
       "    </tr>\n",
       "  </thead>\n",
       "  <tbody>\n",
       "    <tr>\n",
       "      <th>short</th>\n",
       "      <td>91.931684</td>\n",
       "      <td>8.068316</td>\n",
       "    </tr>\n",
       "    <tr>\n",
       "      <th>long</th>\n",
       "      <td>86.583184</td>\n",
       "      <td>13.416816</td>\n",
       "    </tr>\n",
       "    <tr>\n",
       "      <th>All</th>\n",
       "      <td>90.607000</td>\n",
       "      <td>9.393000</td>\n",
       "    </tr>\n",
       "  </tbody>\n",
       "</table>\n",
       "</div>"
      ],
      "text/plain": [
       "           latin  non latin\n",
       "short  91.931684   8.068316\n",
       "long   86.583184  13.416816\n",
       "All    90.607000   9.393000"
      ]
     },
     "metadata": {},
     "output_type": "display_data"
    },
    {
     "data": {
      "image/png": "[encoded data removed]",
      "text/plain": [
       "<Figure size 1000x600 with 1 Axes>"
      ]
     },
     "metadata": {},
     "output_type": "display_data"
    }
   ],
   "source": [
    "tab=pd.DataFrame(columns=['latin','non latin'])\n",
    "for i in df['minimum_nights_class'].unique():\n",
    "    a=df[df['booking_rate']=='top 15%']\n",
    "    count=len(a[a['minimum_nights_class']==i])\n",
    "    count2=len(a)\n",
    "    if count!=0:\n",
    "        la=len(a[(a['minimum_nights_class']==i)&(a['name_latin']=='latin')])/count*100\n",
    "        nl=len(a[(a['minimum_nights_class']==i)&(a['name_latin']=='non latin')])/count*100\n",
    "        tab.loc[i]=[la,nl]\n",
    "\n",
    "tab.loc['All']=[len(a[(a['name_latin']=='latin')])/count2*100,len(a[(a['name_latin']=='non latin')])/count2*100]\n",
    "display(tab)\n",
    "# Plotting\n",
    "fig, ax = plt.subplots(figsize=(10, 6))\n",
    "# Define the bar width\n",
    "bar_width = 0.2\n",
    "index = np.arange(len(tab))  # The label locations\n",
    "# Plot each product\n",
    "for i, product in enumerate(tab.columns):\n",
    "    ax.bar(index + i * bar_width, tab[product], bar_width, label=product)\n",
    "# Adding labels, title, and legend\n",
    "ax.set_ylabel('Percentage')\n",
    "ax.set_xlabel('minimum_nights_class')\n",
    "ax.set_title('Listing Name by Minimum Night Class of top 15% Booking Rate')\n",
    "ax.set_xticks(index + bar_width)\n",
    "ax.set_xticklabels(tab.index)\n",
    "ax.legend(title='Listing Name')\n",
    "plt.tight_layout()\n",
    "plt.show()"
   ]
  },
  {
   "cell_type": "markdown",
   "metadata": {},
   "source": [
    "Dari tabel dan grafik diatas didapatkan bahwa penyewa jangka panjang maupun jangka pendek keduanya memiliki preferensi untuk menyewa listing dengan nama listing tulisan latin namun penyewa jangka panjang memiliki preferensi terhadap nama listing non latin dibandingkan dengan penyewa jangka pendek."
   ]
  },
  {
   "cell_type": "markdown",
   "metadata": {},
   "source": [
    "### e. Analisis Tingkat Booking berdasarkan Distrik"
   ]
  },
  {
   "cell_type": "markdown",
   "metadata": {},
   "source": [
    "#### Minimum Night Class 'Short'"
   ]
  },
  {
   "cell_type": "code",
   "execution_count": 43,
   "metadata": {},
   "outputs": [
    {
     "data": {
      "text/html": [
       "<div>\n",
       "<style scoped>\n",
       "    .dataframe tbody tr th:only-of-type {\n",
       "        vertical-align: middle;\n",
       "    }\n",
       "\n",
       "    .dataframe tbody tr th {\n",
       "        vertical-align: top;\n",
       "    }\n",
       "\n",
       "    .dataframe thead th {\n",
       "        text-align: right;\n",
       "    }\n",
       "</style>\n",
       "<table border=\"1\" class=\"dataframe\">\n",
       "  <thead>\n",
       "    <tr style=\"text-align: right;\">\n",
       "      <th></th>\n",
       "      <th>neighbourhood</th>\n",
       "      <th>id</th>\n",
       "    </tr>\n",
       "  </thead>\n",
       "  <tbody>\n",
       "    <tr>\n",
       "      <th>20</th>\n",
       "      <td>Khlong Toei</td>\n",
       "      <td>26.619552</td>\n",
       "    </tr>\n",
       "    <tr>\n",
       "      <th>35</th>\n",
       "      <td>Vadhana</td>\n",
       "      <td>16.548881</td>\n",
       "    </tr>\n",
       "    <tr>\n",
       "      <th>30</th>\n",
       "      <td>Ratchathewi</td>\n",
       "      <td>8.421673</td>\n",
       "    </tr>\n",
       "    <tr>\n",
       "      <th>32</th>\n",
       "      <td>Sathon</td>\n",
       "      <td>7.361602</td>\n",
       "    </tr>\n",
       "    <tr>\n",
       "      <th>6</th>\n",
       "      <td>Bang Rak</td>\n",
       "      <td>5.535925</td>\n",
       "    </tr>\n",
       "  </tbody>\n",
       "</table>\n",
       "</div>"
      ],
      "text/plain": [
       "   neighbourhood         id\n",
       "20   Khlong Toei  26.619552\n",
       "35       Vadhana  16.548881\n",
       "30   Ratchathewi   8.421673\n",
       "32        Sathon   7.361602\n",
       "6       Bang Rak   5.535925"
      ]
     },
     "metadata": {},
     "output_type": "display_data"
    },
    {
     "data": {
      "application/vnd.plotly.v1+json": {
       "config": {
        "plotlyServerURL": "https://plot.ly"
       },
       "data": [
        {
         "coloraxis": "coloraxis",
         "featureidkey": "properties.dname_e",
         "geojson": "Bangkok-districts.geojson",
         "hovertemplate": "Ditrict=%{location}<br>Persentase=%{z}<extra></extra>",
         "locations": [
          "Bang Kapi",
          "Bang Khen",
          "Bang Kho laen",
          "Bang Khun thain",
          "Bang Na",
          "Bang Phlat",
          "Bang Rak",
          "Bang Sue",
          "Bangkok Noi",
          "Bangkok Yai",
          "Bueng Kum",
          "Chatu Chak",
          "Chom Thong",
          "Din Daeng",
          "Don Mueang",
          "Dusit",
          "Huai Khwang",
          "Khan Na Yao",
          "Khlong Sam Wa",
          "Khlong San",
          "Khlong Toei",
          "Lak Si",
          "Lat Krabang",
          "Parthum Wan",
          "Phasi Charoen",
          "Phaya Thai",
          "Phra Khanong",
          "Phra Nakhon",
          "Pom Prap Sattru Phai",
          "Pra Wet",
          "Ratchathewi",
          "Samphanthawong",
          "Sathon",
          "Suanluang",
          "Thon buri",
          "Vadhana",
          "Wang Thong Lang",
          "Yan na wa"
         ],
         "marker": {
          "opacity": 0.7
         },
         "name": "",
         "subplot": "mapbox",
         "type": "choroplethmapbox",
         "z": [
          0.5300353356890459,
          0.23557126030624262,
          0.23557126030624262,
          0.058892815076560655,
          1.8256772673733805,
          0.35335689045936397,
          5.535924617196701,
          1.5312131919905771,
          0.058892815076560655,
          0.23557126030624262,
          0.058892815076560655,
          2.2968197879858656,
          0.2944640753828033,
          2.8857479387514724,
          0.23557126030624262,
          0.11778563015312131,
          4.593639575971731,
          0.17667844522968199,
          0.058892815076560655,
          1.0011778563015312,
          26.61955241460542,
          0.17667844522968199,
          0.8244994110718492,
          2.4734982332155475,
          0.5889281507656066,
          3.415783274440518,
          1.707891637220259,
          4.004711425206125,
          1.2956419316843346,
          0.4122497055359246,
          8.421672555948174,
          0.47114252061248524,
          7.361601884570082,
          1.2956419316843346,
          1.1189634864546525,
          16.548881036513546,
          0.058892815076560655,
          0.88339222614841
         ]
        }
       ],
       "layout": {
        "coloraxis": {
         "colorbar": {
          "title": {
           "text": "Persentase"
          }
         },
         "colorscale": [
          [
           0,
           "rgb(255,255,204)"
          ],
          [
           0.125,
           "rgb(255,237,160)"
          ],
          [
           0.25,
           "rgb(254,217,118)"
          ],
          [
           0.375,
           "rgb(254,178,76)"
          ],
          [
           0.5,
           "rgb(253,141,60)"
          ],
          [
           0.625,
           "rgb(252,78,42)"
          ],
          [
           0.75,
           "rgb(227,26,28)"
          ],
          [
           0.875,
           "rgb(189,0,38)"
          ],
          [
           1,
           "rgb(128,0,38)"
          ]
         ]
        },
        "legend": {
         "tracegroupgap": 0
        },
        "mapbox": {
         "center": {
          "lat": 13.7563,
          "lon": 100.5018
         },
         "domain": {
          "x": [
           0,
           1
          ],
          "y": [
           0,
           1
          ]
         },
         "style": "open-street-map",
         "zoom": 10
        },
        "margin": {
         "b": 0,
         "l": 0,
         "r": 0,
         "t": 0
        },
        "template": {
         "data": {
          "bar": [
           {
            "error_x": {
             "color": "#2a3f5f"
            },
            "error_y": {
             "color": "#2a3f5f"
            },
            "marker": {
             "line": {
              "color": "#E5ECF6",
              "width": 0.5
             },
             "pattern": {
              "fillmode": "overlay",
              "size": 10,
              "solidity": 0.2
             }
            },
            "type": "bar"
           }
          ],
          "barpolar": [
           {
            "marker": {
             "line": {
              "color": "#E5ECF6",
              "width": 0.5
             },
             "pattern": {
              "fillmode": "overlay",
              "size": 10,
              "solidity": 0.2
             }
            },
            "type": "barpolar"
           }
          ],
          "carpet": [
           {
            "aaxis": {
             "endlinecolor": "#2a3f5f",
             "gridcolor": "white",
             "linecolor": "white",
             "minorgridcolor": "white",
             "startlinecolor": "#2a3f5f"
            },
            "baxis": {
             "endlinecolor": "#2a3f5f",
             "gridcolor": "white",
             "linecolor": "white",
             "minorgridcolor": "white",
             "startlinecolor": "#2a3f5f"
            },
            "type": "carpet"
           }
          ],
          "choropleth": [
           {
            "colorbar": {
             "outlinewidth": 0,
             "ticks": ""
            },
            "type": "choropleth"
           }
          ],
          "contour": [
           {
            "colorbar": {
             "outlinewidth": 0,
             "ticks": ""
            },
            "colorscale": [
             [
              0,
              "#0d0887"
             ],
             [
              0.1111111111111111,
              "#46039f"
             ],
             [
              0.2222222222222222,
              "#7201a8"
             ],
             [
              0.3333333333333333,
              "#9c179e"
             ],
             [
              0.4444444444444444,
              "#bd3786"
             ],
             [
              0.5555555555555556,
              "#d8576b"
             ],
             [
              0.6666666666666666,
              "#ed7953"
             ],
             [
              0.7777777777777778,
              "#fb9f3a"
             ],
             [
              0.8888888888888888,
              "#fdca26"
             ],
             [
              1,
              "#f0f921"
             ]
            ],
            "type": "contour"
           }
          ],
          "contourcarpet": [
           {
            "colorbar": {
             "outlinewidth": 0,
             "ticks": ""
            },
            "type": "contourcarpet"
           }
          ],
          "heatmap": [
           {
            "colorbar": {
             "outlinewidth": 0,
             "ticks": ""
            },
            "colorscale": [
             [
              0,
              "#0d0887"
             ],
             [
              0.1111111111111111,
              "#46039f"
             ],
             [
              0.2222222222222222,
              "#7201a8"
             ],
             [
              0.3333333333333333,
              "#9c179e"
             ],
             [
              0.4444444444444444,
              "#bd3786"
             ],
             [
              0.5555555555555556,
              "#d8576b"
             ],
             [
              0.6666666666666666,
              "#ed7953"
             ],
             [
              0.7777777777777778,
              "#fb9f3a"
             ],
             [
              0.8888888888888888,
              "#fdca26"
             ],
             [
              1,
              "#f0f921"
             ]
            ],
            "type": "heatmap"
           }
          ],
          "heatmapgl": [
           {
            "colorbar": {
             "outlinewidth": 0,
             "ticks": ""
            },
            "colorscale": [
             [
              0,
              "#0d0887"
             ],
             [
              0.1111111111111111,
              "#46039f"
             ],
             [
              0.2222222222222222,
              "#7201a8"
             ],
             [
              0.3333333333333333,
              "#9c179e"
             ],
             [
              0.4444444444444444,
              "#bd3786"
             ],
             [
              0.5555555555555556,
              "#d8576b"
             ],
             [
              0.6666666666666666,
              "#ed7953"
             ],
             [
              0.7777777777777778,
              "#fb9f3a"
             ],
             [
              0.8888888888888888,
              "#fdca26"
             ],
             [
              1,
              "#f0f921"
             ]
            ],
            "type": "heatmapgl"
           }
          ],
          "histogram": [
           {
            "marker": {
             "pattern": {
              "fillmode": "overlay",
              "size": 10,
              "solidity": 0.2
             }
            },
            "type": "histogram"
           }
          ],
          "histogram2d": [
           {
            "colorbar": {
             "outlinewidth": 0,
             "ticks": ""
            },
            "colorscale": [
             [
              0,
              "#0d0887"
             ],
             [
              0.1111111111111111,
              "#46039f"
             ],
             [
              0.2222222222222222,
              "#7201a8"
             ],
             [
              0.3333333333333333,
              "#9c179e"
             ],
             [
              0.4444444444444444,
              "#bd3786"
             ],
             [
              0.5555555555555556,
              "#d8576b"
             ],
             [
              0.6666666666666666,
              "#ed7953"
             ],
             [
              0.7777777777777778,
              "#fb9f3a"
             ],
             [
              0.8888888888888888,
              "#fdca26"
             ],
             [
              1,
              "#f0f921"
             ]
            ],
            "type": "histogram2d"
           }
          ],
          "histogram2dcontour": [
           {
            "colorbar": {
             "outlinewidth": 0,
             "ticks": ""
            },
            "colorscale": [
             [
              0,
              "#0d0887"
             ],
             [
              0.1111111111111111,
              "#46039f"
             ],
             [
              0.2222222222222222,
              "#7201a8"
             ],
             [
              0.3333333333333333,
              "#9c179e"
             ],
             [
              0.4444444444444444,
              "#bd3786"
             ],
             [
              0.5555555555555556,
              "#d8576b"
             ],
             [
              0.6666666666666666,
              "#ed7953"
             ],
             [
              0.7777777777777778,
              "#fb9f3a"
             ],
             [
              0.8888888888888888,
              "#fdca26"
             ],
             [
              1,
              "#f0f921"
             ]
            ],
            "type": "histogram2dcontour"
           }
          ],
          "mesh3d": [
           {
            "colorbar": {
             "outlinewidth": 0,
             "ticks": ""
            },
            "type": "mesh3d"
           }
          ],
          "parcoords": [
           {
            "line": {
             "colorbar": {
              "outlinewidth": 0,
              "ticks": ""
             }
            },
            "type": "parcoords"
           }
          ],
          "pie": [
           {
            "automargin": true,
            "type": "pie"
           }
          ],
          "scatter": [
           {
            "fillpattern": {
             "fillmode": "overlay",
             "size": 10,
             "solidity": 0.2
            },
            "type": "scatter"
           }
          ],
          "scatter3d": [
           {
            "line": {
             "colorbar": {
              "outlinewidth": 0,
              "ticks": ""
             }
            },
            "marker": {
             "colorbar": {
              "outlinewidth": 0,
              "ticks": ""
             }
            },
            "type": "scatter3d"
           }
          ],
          "scattercarpet": [
           {
            "marker": {
             "colorbar": {
              "outlinewidth": 0,
              "ticks": ""
             }
            },
            "type": "scattercarpet"
           }
          ],
          "scattergeo": [
           {
            "marker": {
             "colorbar": {
              "outlinewidth": 0,
              "ticks": ""
             }
            },
            "type": "scattergeo"
           }
          ],
          "scattergl": [
           {
            "marker": {
             "colorbar": {
              "outlinewidth": 0,
              "ticks": ""
             }
            },
            "type": "scattergl"
           }
          ],
          "scattermapbox": [
           {
            "marker": {
             "colorbar": {
              "outlinewidth": 0,
              "ticks": ""
             }
            },
            "type": "scattermapbox"
           }
          ],
          "scatterpolar": [
           {
            "marker": {
             "colorbar": {
              "outlinewidth": 0,
              "ticks": ""
             }
            },
            "type": "scatterpolar"
           }
          ],
          "scatterpolargl": [
           {
            "marker": {
             "colorbar": {
              "outlinewidth": 0,
              "ticks": ""
             }
            },
            "type": "scatterpolargl"
           }
          ],
          "scatterternary": [
           {
            "marker": {
             "colorbar": {
              "outlinewidth": 0,
              "ticks": ""
             }
            },
            "type": "scatterternary"
           }
          ],
          "surface": [
           {
            "colorbar": {
             "outlinewidth": 0,
             "ticks": ""
            },
            "colorscale": [
             [
              0,
              "#0d0887"
             ],
             [
              0.1111111111111111,
              "#46039f"
             ],
             [
              0.2222222222222222,
              "#7201a8"
             ],
             [
              0.3333333333333333,
              "#9c179e"
             ],
             [
              0.4444444444444444,
              "#bd3786"
             ],
             [
              0.5555555555555556,
              "#d8576b"
             ],
             [
              0.6666666666666666,
              "#ed7953"
             ],
             [
              0.7777777777777778,
              "#fb9f3a"
             ],
             [
              0.8888888888888888,
              "#fdca26"
             ],
             [
              1,
              "#f0f921"
             ]
            ],
            "type": "surface"
           }
          ],
          "table": [
           {
            "cells": {
             "fill": {
              "color": "#EBF0F8"
             },
             "line": {
              "color": "white"
             }
            },
            "header": {
             "fill": {
              "color": "#C8D4E3"
             },
             "line": {
              "color": "white"
             }
            },
            "type": "table"
           }
          ]
         },
         "layout": {
          "annotationdefaults": {
           "arrowcolor": "#2a3f5f",
           "arrowhead": 0,
           "arrowwidth": 1
          },
          "autotypenumbers": "strict",
          "coloraxis": {
           "colorbar": {
            "outlinewidth": 0,
            "ticks": ""
           }
          },
          "colorscale": {
           "diverging": [
            [
             0,
             "#8e0152"
            ],
            [
             0.1,
             "#c51b7d"
            ],
            [
             0.2,
             "#de77ae"
            ],
            [
             0.3,
             "#f1b6da"
            ],
            [
             0.4,
             "#fde0ef"
            ],
            [
             0.5,
             "#f7f7f7"
            ],
            [
             0.6,
             "#e6f5d0"
            ],
            [
             0.7,
             "#b8e186"
            ],
            [
             0.8,
             "#7fbc41"
            ],
            [
             0.9,
             "#4d9221"
            ],
            [
             1,
             "#276419"
            ]
           ],
           "sequential": [
            [
             0,
             "#0d0887"
            ],
            [
             0.1111111111111111,
             "#46039f"
            ],
            [
             0.2222222222222222,
             "#7201a8"
            ],
            [
             0.3333333333333333,
             "#9c179e"
            ],
            [
             0.4444444444444444,
             "#bd3786"
            ],
            [
             0.5555555555555556,
             "#d8576b"
            ],
            [
             0.6666666666666666,
             "#ed7953"
            ],
            [
             0.7777777777777778,
             "#fb9f3a"
            ],
            [
             0.8888888888888888,
             "#fdca26"
            ],
            [
             1,
             "#f0f921"
            ]
           ],
           "sequentialminus": [
            [
             0,
             "#0d0887"
            ],
            [
             0.1111111111111111,
             "#46039f"
            ],
            [
             0.2222222222222222,
             "#7201a8"
            ],
            [
             0.3333333333333333,
             "#9c179e"
            ],
            [
             0.4444444444444444,
             "#bd3786"
            ],
            [
             0.5555555555555556,
             "#d8576b"
            ],
            [
             0.6666666666666666,
             "#ed7953"
            ],
            [
             0.7777777777777778,
             "#fb9f3a"
            ],
            [
             0.8888888888888888,
             "#fdca26"
            ],
            [
             1,
             "#f0f921"
            ]
           ]
          },
          "colorway": [
           "#636efa",
           "#EF553B",
           "#00cc96",
           "#ab63fa",
           "#FFA15A",
           "#19d3f3",
           "#FF6692",
           "#B6E880",
           "#FF97FF",
           "#FECB52"
          ],
          "font": {
           "color": "#2a3f5f"
          },
          "geo": {
           "bgcolor": "white",
           "lakecolor": "white",
           "landcolor": "#E5ECF6",
           "showlakes": true,
           "showland": true,
           "subunitcolor": "white"
          },
          "hoverlabel": {
           "align": "left"
          },
          "hovermode": "closest",
          "mapbox": {
           "style": "light"
          },
          "paper_bgcolor": "white",
          "plot_bgcolor": "#E5ECF6",
          "polar": {
           "angularaxis": {
            "gridcolor": "white",
            "linecolor": "white",
            "ticks": ""
           },
           "bgcolor": "#E5ECF6",
           "radialaxis": {
            "gridcolor": "white",
            "linecolor": "white",
            "ticks": ""
           }
          },
          "scene": {
           "xaxis": {
            "backgroundcolor": "#E5ECF6",
            "gridcolor": "white",
            "gridwidth": 2,
            "linecolor": "white",
            "showbackground": true,
            "ticks": "",
            "zerolinecolor": "white"
           },
           "yaxis": {
            "backgroundcolor": "#E5ECF6",
            "gridcolor": "white",
            "gridwidth": 2,
            "linecolor": "white",
            "showbackground": true,
            "ticks": "",
            "zerolinecolor": "white"
           },
           "zaxis": {
            "backgroundcolor": "#E5ECF6",
            "gridcolor": "white",
            "gridwidth": 2,
            "linecolor": "white",
            "showbackground": true,
            "ticks": "",
            "zerolinecolor": "white"
           }
          },
          "shapedefaults": {
           "line": {
            "color": "#2a3f5f"
           }
          },
          "ternary": {
           "aaxis": {
            "gridcolor": "white",
            "linecolor": "white",
            "ticks": ""
           },
           "baxis": {
            "gridcolor": "white",
            "linecolor": "white",
            "ticks": ""
           },
           "bgcolor": "#E5ECF6",
           "caxis": {
            "gridcolor": "white",
            "linecolor": "white",
            "ticks": ""
           }
          },
          "title": {
           "x": 0.05
          },
          "xaxis": {
           "automargin": true,
           "gridcolor": "white",
           "linecolor": "white",
           "ticks": "",
           "title": {
            "standoff": 15
           },
           "zerolinecolor": "white",
           "zerolinewidth": 2
          },
          "yaxis": {
           "automargin": true,
           "gridcolor": "white",
           "linecolor": "white",
           "ticks": "",
           "title": {
            "standoff": 15
           },
           "zerolinecolor": "white",
           "zerolinewidth": 2
          }
         }
        }
       }
      }
     },
     "metadata": {},
     "output_type": "display_data"
    }
   ],
   "source": [
    "da=df[(df['booking_rate']=='top 15%')&(df['minimum_nights_class']=='short')]\n",
    "distrik =pd.DataFrame(data=da.groupby('neighbourhood').count()['id']).reset_index()\n",
    "distrik['id']=distrik['id']/len(da)*100\n",
    "import plotly.express as px\n",
    "bangkok = r'Bangkok-districts.geojson'\n",
    "bangkok_loc = [13.7563,100.5018]\n",
    "fig = px.choropleth_mapbox(distrik, geojson=bangkok, color='id',\n",
    "                           locations='neighbourhood', featureidkey='properties.dname_e',\n",
    "                           center={'lat': 13.7563, 'lon': 100.5018},\n",
    "                           mapbox_style='open-street-map', zoom=10,\n",
    "                           labels={'id':'Persentase',\n",
    "                                    'neighbourhood': 'Ditrict'},color_continuous_scale='YlOrRd',opacity=0.7)\n",
    "fig.update_layout(margin={'r':0,'t':0,'l':0,'b':0})\n",
    "display(distrik.sort_values('id',ascending=False).head(5))\n",
    "fig.show()"
   ]
  },
  {
   "cell_type": "markdown",
   "metadata": {},
   "source": [
    "Didapatkan bahwa district dengan tingkat booking tertinggi untuk penyewa jangka pendek adalah :\n",
    "1. Khlong Toei\n",
    "2. Vadhana\n",
    "3. Ratchathewi\n",
    "4. Sathon\n",
    "5. Bang Rak"
   ]
  },
  {
   "cell_type": "markdown",
   "metadata": {},
   "source": [
    "#### Minimum Night Class 'Short'"
   ]
  },
  {
   "cell_type": "code",
   "execution_count": 44,
   "metadata": {},
   "outputs": [
    {
     "data": {
      "text/html": [
       "<div>\n",
       "<style scoped>\n",
       "    .dataframe tbody tr th:only-of-type {\n",
       "        vertical-align: middle;\n",
       "    }\n",
       "\n",
       "    .dataframe tbody tr th {\n",
       "        vertical-align: top;\n",
       "    }\n",
       "\n",
       "    .dataframe thead th {\n",
       "        text-align: right;\n",
       "    }\n",
       "</style>\n",
       "<table border=\"1\" class=\"dataframe\">\n",
       "  <thead>\n",
       "    <tr style=\"text-align: right;\">\n",
       "      <th></th>\n",
       "      <th>neighbourhood</th>\n",
       "      <th>id</th>\n",
       "    </tr>\n",
       "  </thead>\n",
       "  <tbody>\n",
       "    <tr>\n",
       "      <th>27</th>\n",
       "      <td>Vadhana</td>\n",
       "      <td>23.434705</td>\n",
       "    </tr>\n",
       "    <tr>\n",
       "      <th>15</th>\n",
       "      <td>Khlong Toei</td>\n",
       "      <td>16.636852</td>\n",
       "    </tr>\n",
       "    <tr>\n",
       "      <th>5</th>\n",
       "      <td>Bang Rak</td>\n",
       "      <td>7.155635</td>\n",
       "    </tr>\n",
       "    <tr>\n",
       "      <th>12</th>\n",
       "      <td>Huai Khwang</td>\n",
       "      <td>6.618962</td>\n",
       "    </tr>\n",
       "    <tr>\n",
       "      <th>20</th>\n",
       "      <td>Phra Khanong</td>\n",
       "      <td>5.903399</td>\n",
       "    </tr>\n",
       "  </tbody>\n",
       "</table>\n",
       "</div>"
      ],
      "text/plain": [
       "   neighbourhood         id\n",
       "27       Vadhana  23.434705\n",
       "15   Khlong Toei  16.636852\n",
       "5       Bang Rak   7.155635\n",
       "12   Huai Khwang   6.618962\n",
       "20  Phra Khanong   5.903399"
      ]
     },
     "metadata": {},
     "output_type": "display_data"
    },
    {
     "data": {
      "application/vnd.plotly.v1+json": {
       "config": {
        "plotlyServerURL": "https://plot.ly"
       },
       "data": [
        {
         "coloraxis": "coloraxis",
         "featureidkey": "properties.dname_e",
         "geojson": "Bangkok-districts.geojson",
         "hovertemplate": "Ditrict=%{location}<br>Persentase=%{z}<extra></extra>",
         "locations": [
          "Bang Kapi",
          "Bang Khen",
          "Bang Kho laen",
          "Bang Na",
          "Bang Phlat",
          "Bang Rak",
          "Bang Sue",
          "Bangkok Yai",
          "Bueng Kum",
          "Chatu Chak",
          "Chom Thong",
          "Din Daeng",
          "Huai Khwang",
          "Khan Na Yao",
          "Khlong San",
          "Khlong Toei",
          "Lak Si",
          "Parthum Wan",
          "Phasi Charoen",
          "Phaya Thai",
          "Phra Khanong",
          "Pra Wet",
          "Rat Burana",
          "Ratchathewi",
          "Sathon",
          "Suanluang",
          "Thon buri",
          "Vadhana",
          "Yan na wa"
         ],
         "marker": {
          "opacity": 0.7
         },
         "name": "",
         "subplot": "mapbox",
         "type": "choroplethmapbox",
         "z": [
          1.073345259391771,
          0.5366726296958855,
          0.5366726296958855,
          4.293381037567084,
          0.7155635062611807,
          7.155635062611807,
          3.3989266547406083,
          0.17889087656529518,
          0.17889087656529518,
          2.862254025044723,
          0.7155635062611807,
          3.2200357781753133,
          6.618962432915922,
          0.35778175313059035,
          2.5044722719141324,
          16.636851520572453,
          0.5366726296958855,
          4.293381037567084,
          0.8944543828264758,
          1.6100178890876566,
          5.903398926654741,
          0.35778175313059035,
          0.35778175313059035,
          5.008944543828265,
          2.3255813953488373,
          2.146690518783542,
          1.7889087656529516,
          23.43470483005367,
          0.35778175313059035
         ]
        }
       ],
       "layout": {
        "coloraxis": {
         "colorbar": {
          "title": {
           "text": "Persentase"
          }
         },
         "colorscale": [
          [
           0,
           "rgb(255,255,217)"
          ],
          [
           0.125,
           "rgb(237,248,177)"
          ],
          [
           0.25,
           "rgb(199,233,180)"
          ],
          [
           0.375,
           "rgb(127,205,187)"
          ],
          [
           0.5,
           "rgb(65,182,196)"
          ],
          [
           0.625,
           "rgb(29,145,192)"
          ],
          [
           0.75,
           "rgb(34,94,168)"
          ],
          [
           0.875,
           "rgb(37,52,148)"
          ],
          [
           1,
           "rgb(8,29,88)"
          ]
         ]
        },
        "legend": {
         "tracegroupgap": 0
        },
        "mapbox": {
         "center": {
          "lat": 13.7563,
          "lon": 100.5018
         },
         "domain": {
          "x": [
           0,
           1
          ],
          "y": [
           0,
           1
          ]
         },
         "style": "open-street-map",
         "zoom": 10
        },
        "margin": {
         "b": 0,
         "l": 0,
         "r": 0,
         "t": 0
        },
        "template": {
         "data": {
          "bar": [
           {
            "error_x": {
             "color": "#2a3f5f"
            },
            "error_y": {
             "color": "#2a3f5f"
            },
            "marker": {
             "line": {
              "color": "#E5ECF6",
              "width": 0.5
             },
             "pattern": {
              "fillmode": "overlay",
              "size": 10,
              "solidity": 0.2
             }
            },
            "type": "bar"
           }
          ],
          "barpolar": [
           {
            "marker": {
             "line": {
              "color": "#E5ECF6",
              "width": 0.5
             },
             "pattern": {
              "fillmode": "overlay",
              "size": 10,
              "solidity": 0.2
             }
            },
            "type": "barpolar"
           }
          ],
          "carpet": [
           {
            "aaxis": {
             "endlinecolor": "#2a3f5f",
             "gridcolor": "white",
             "linecolor": "white",
             "minorgridcolor": "white",
             "startlinecolor": "#2a3f5f"
            },
            "baxis": {
             "endlinecolor": "#2a3f5f",
             "gridcolor": "white",
             "linecolor": "white",
             "minorgridcolor": "white",
             "startlinecolor": "#2a3f5f"
            },
            "type": "carpet"
           }
          ],
          "choropleth": [
           {
            "colorbar": {
             "outlinewidth": 0,
             "ticks": ""
            },
            "type": "choropleth"
           }
          ],
          "contour": [
           {
            "colorbar": {
             "outlinewidth": 0,
             "ticks": ""
            },
            "colorscale": [
             [
              0,
              "#0d0887"
             ],
             [
              0.1111111111111111,
              "#46039f"
             ],
             [
              0.2222222222222222,
              "#7201a8"
             ],
             [
              0.3333333333333333,
              "#9c179e"
             ],
             [
              0.4444444444444444,
              "#bd3786"
             ],
             [
              0.5555555555555556,
              "#d8576b"
             ],
             [
              0.6666666666666666,
              "#ed7953"
             ],
             [
              0.7777777777777778,
              "#fb9f3a"
             ],
             [
              0.8888888888888888,
              "#fdca26"
             ],
             [
              1,
              "#f0f921"
             ]
            ],
            "type": "contour"
           }
          ],
          "contourcarpet": [
           {
            "colorbar": {
             "outlinewidth": 0,
             "ticks": ""
            },
            "type": "contourcarpet"
           }
          ],
          "heatmap": [
           {
            "colorbar": {
             "outlinewidth": 0,
             "ticks": ""
            },
            "colorscale": [
             [
              0,
              "#0d0887"
             ],
             [
              0.1111111111111111,
              "#46039f"
             ],
             [
              0.2222222222222222,
              "#7201a8"
             ],
             [
              0.3333333333333333,
              "#9c179e"
             ],
             [
              0.4444444444444444,
              "#bd3786"
             ],
             [
              0.5555555555555556,
              "#d8576b"
             ],
             [
              0.6666666666666666,
              "#ed7953"
             ],
             [
              0.7777777777777778,
              "#fb9f3a"
             ],
             [
              0.8888888888888888,
              "#fdca26"
             ],
             [
              1,
              "#f0f921"
             ]
            ],
            "type": "heatmap"
           }
          ],
          "heatmapgl": [
           {
            "colorbar": {
             "outlinewidth": 0,
             "ticks": ""
            },
            "colorscale": [
             [
              0,
              "#0d0887"
             ],
             [
              0.1111111111111111,
              "#46039f"
             ],
             [
              0.2222222222222222,
              "#7201a8"
             ],
             [
              0.3333333333333333,
              "#9c179e"
             ],
             [
              0.4444444444444444,
              "#bd3786"
             ],
             [
              0.5555555555555556,
              "#d8576b"
             ],
             [
              0.6666666666666666,
              "#ed7953"
             ],
             [
              0.7777777777777778,
              "#fb9f3a"
             ],
             [
              0.8888888888888888,
              "#fdca26"
             ],
             [
              1,
              "#f0f921"
             ]
            ],
            "type": "heatmapgl"
           }
          ],
          "histogram": [
           {
            "marker": {
             "pattern": {
              "fillmode": "overlay",
              "size": 10,
              "solidity": 0.2
             }
            },
            "type": "histogram"
           }
          ],
          "histogram2d": [
           {
            "colorbar": {
             "outlinewidth": 0,
             "ticks": ""
            },
            "colorscale": [
             [
              0,
              "#0d0887"
             ],
             [
              0.1111111111111111,
              "#46039f"
             ],
             [
              0.2222222222222222,
              "#7201a8"
             ],
             [
              0.3333333333333333,
              "#9c179e"
             ],
             [
              0.4444444444444444,
              "#bd3786"
             ],
             [
              0.5555555555555556,
              "#d8576b"
             ],
             [
              0.6666666666666666,
              "#ed7953"
             ],
             [
              0.7777777777777778,
              "#fb9f3a"
             ],
             [
              0.8888888888888888,
              "#fdca26"
             ],
             [
              1,
              "#f0f921"
             ]
            ],
            "type": "histogram2d"
           }
          ],
          "histogram2dcontour": [
           {
            "colorbar": {
             "outlinewidth": 0,
             "ticks": ""
            },
            "colorscale": [
             [
              0,
              "#0d0887"
             ],
             [
              0.1111111111111111,
              "#46039f"
             ],
             [
              0.2222222222222222,
              "#7201a8"
             ],
             [
              0.3333333333333333,
              "#9c179e"
             ],
             [
              0.4444444444444444,
              "#bd3786"
             ],
             [
              0.5555555555555556,
              "#d8576b"
             ],
             [
              0.6666666666666666,
              "#ed7953"
             ],
             [
              0.7777777777777778,
              "#fb9f3a"
             ],
             [
              0.8888888888888888,
              "#fdca26"
             ],
             [
              1,
              "#f0f921"
             ]
            ],
            "type": "histogram2dcontour"
           }
          ],
          "mesh3d": [
           {
            "colorbar": {
             "outlinewidth": 0,
             "ticks": ""
            },
            "type": "mesh3d"
           }
          ],
          "parcoords": [
           {
            "line": {
             "colorbar": {
              "outlinewidth": 0,
              "ticks": ""
             }
            },
            "type": "parcoords"
           }
          ],
          "pie": [
           {
            "automargin": true,
            "type": "pie"
           }
          ],
          "scatter": [
           {
            "fillpattern": {
             "fillmode": "overlay",
             "size": 10,
             "solidity": 0.2
            },
            "type": "scatter"
           }
          ],
          "scatter3d": [
           {
            "line": {
             "colorbar": {
              "outlinewidth": 0,
              "ticks": ""
             }
            },
            "marker": {
             "colorbar": {
              "outlinewidth": 0,
              "ticks": ""
             }
            },
            "type": "scatter3d"
           }
          ],
          "scattercarpet": [
           {
            "marker": {
             "colorbar": {
              "outlinewidth": 0,
              "ticks": ""
             }
            },
            "type": "scattercarpet"
           }
          ],
          "scattergeo": [
           {
            "marker": {
             "colorbar": {
              "outlinewidth": 0,
              "ticks": ""
             }
            },
            "type": "scattergeo"
           }
          ],
          "scattergl": [
           {
            "marker": {
             "colorbar": {
              "outlinewidth": 0,
              "ticks": ""
             }
            },
            "type": "scattergl"
           }
          ],
          "scattermapbox": [
           {
            "marker": {
             "colorbar": {
              "outlinewidth": 0,
              "ticks": ""
             }
            },
            "type": "scattermapbox"
           }
          ],
          "scatterpolar": [
           {
            "marker": {
             "colorbar": {
              "outlinewidth": 0,
              "ticks": ""
             }
            },
            "type": "scatterpolar"
           }
          ],
          "scatterpolargl": [
           {
            "marker": {
             "colorbar": {
              "outlinewidth": 0,
              "ticks": ""
             }
            },
            "type": "scatterpolargl"
           }
          ],
          "scatterternary": [
           {
            "marker": {
             "colorbar": {
              "outlinewidth": 0,
              "ticks": ""
             }
            },
            "type": "scatterternary"
           }
          ],
          "surface": [
           {
            "colorbar": {
             "outlinewidth": 0,
             "ticks": ""
            },
            "colorscale": [
             [
              0,
              "#0d0887"
             ],
             [
              0.1111111111111111,
              "#46039f"
             ],
             [
              0.2222222222222222,
              "#7201a8"
             ],
             [
              0.3333333333333333,
              "#9c179e"
             ],
             [
              0.4444444444444444,
              "#bd3786"
             ],
             [
              0.5555555555555556,
              "#d8576b"
             ],
             [
              0.6666666666666666,
              "#ed7953"
             ],
             [
              0.7777777777777778,
              "#fb9f3a"
             ],
             [
              0.8888888888888888,
              "#fdca26"
             ],
             [
              1,
              "#f0f921"
             ]
            ],
            "type": "surface"
           }
          ],
          "table": [
           {
            "cells": {
             "fill": {
              "color": "#EBF0F8"
             },
             "line": {
              "color": "white"
             }
            },
            "header": {
             "fill": {
              "color": "#C8D4E3"
             },
             "line": {
              "color": "white"
             }
            },
            "type": "table"
           }
          ]
         },
         "layout": {
          "annotationdefaults": {
           "arrowcolor": "#2a3f5f",
           "arrowhead": 0,
           "arrowwidth": 1
          },
          "autotypenumbers": "strict",
          "coloraxis": {
           "colorbar": {
            "outlinewidth": 0,
            "ticks": ""
           }
          },
          "colorscale": {
           "diverging": [
            [
             0,
             "#8e0152"
            ],
            [
             0.1,
             "#c51b7d"
            ],
            [
             0.2,
             "#de77ae"
            ],
            [
             0.3,
             "#f1b6da"
            ],
            [
             0.4,
             "#fde0ef"
            ],
            [
             0.5,
             "#f7f7f7"
            ],
            [
             0.6,
             "#e6f5d0"
            ],
            [
             0.7,
             "#b8e186"
            ],
            [
             0.8,
             "#7fbc41"
            ],
            [
             0.9,
             "#4d9221"
            ],
            [
             1,
             "#276419"
            ]
           ],
           "sequential": [
            [
             0,
             "#0d0887"
            ],
            [
             0.1111111111111111,
             "#46039f"
            ],
            [
             0.2222222222222222,
             "#7201a8"
            ],
            [
             0.3333333333333333,
             "#9c179e"
            ],
            [
             0.4444444444444444,
             "#bd3786"
            ],
            [
             0.5555555555555556,
             "#d8576b"
            ],
            [
             0.6666666666666666,
             "#ed7953"
            ],
            [
             0.7777777777777778,
             "#fb9f3a"
            ],
            [
             0.8888888888888888,
             "#fdca26"
            ],
            [
             1,
             "#f0f921"
            ]
           ],
           "sequentialminus": [
            [
             0,
             "#0d0887"
            ],
            [
             0.1111111111111111,
             "#46039f"
            ],
            [
             0.2222222222222222,
             "#7201a8"
            ],
            [
             0.3333333333333333,
             "#9c179e"
            ],
            [
             0.4444444444444444,
             "#bd3786"
            ],
            [
             0.5555555555555556,
             "#d8576b"
            ],
            [
             0.6666666666666666,
             "#ed7953"
            ],
            [
             0.7777777777777778,
             "#fb9f3a"
            ],
            [
             0.8888888888888888,
             "#fdca26"
            ],
            [
             1,
             "#f0f921"
            ]
           ]
          },
          "colorway": [
           "#636efa",
           "#EF553B",
           "#00cc96",
           "#ab63fa",
           "#FFA15A",
           "#19d3f3",
           "#FF6692",
           "#B6E880",
           "#FF97FF",
           "#FECB52"
          ],
          "font": {
           "color": "#2a3f5f"
          },
          "geo": {
           "bgcolor": "white",
           "lakecolor": "white",
           "landcolor": "#E5ECF6",
           "showlakes": true,
           "showland": true,
           "subunitcolor": "white"
          },
          "hoverlabel": {
           "align": "left"
          },
          "hovermode": "closest",
          "mapbox": {
           "style": "light"
          },
          "paper_bgcolor": "white",
          "plot_bgcolor": "#E5ECF6",
          "polar": {
           "angularaxis": {
            "gridcolor": "white",
            "linecolor": "white",
            "ticks": ""
           },
           "bgcolor": "#E5ECF6",
           "radialaxis": {
            "gridcolor": "white",
            "linecolor": "white",
            "ticks": ""
           }
          },
          "scene": {
           "xaxis": {
            "backgroundcolor": "#E5ECF6",
            "gridcolor": "white",
            "gridwidth": 2,
            "linecolor": "white",
            "showbackground": true,
            "ticks": "",
            "zerolinecolor": "white"
           },
           "yaxis": {
            "backgroundcolor": "#E5ECF6",
            "gridcolor": "white",
            "gridwidth": 2,
            "linecolor": "white",
            "showbackground": true,
            "ticks": "",
            "zerolinecolor": "white"
           },
           "zaxis": {
            "backgroundcolor": "#E5ECF6",
            "gridcolor": "white",
            "gridwidth": 2,
            "linecolor": "white",
            "showbackground": true,
            "ticks": "",
            "zerolinecolor": "white"
           }
          },
          "shapedefaults": {
           "line": {
            "color": "#2a3f5f"
           }
          },
          "ternary": {
           "aaxis": {
            "gridcolor": "white",
            "linecolor": "white",
            "ticks": ""
           },
           "baxis": {
            "gridcolor": "white",
            "linecolor": "white",
            "ticks": ""
           },
           "bgcolor": "#E5ECF6",
           "caxis": {
            "gridcolor": "white",
            "linecolor": "white",
            "ticks": ""
           }
          },
          "title": {
           "x": 0.05
          },
          "xaxis": {
           "automargin": true,
           "gridcolor": "white",
           "linecolor": "white",
           "ticks": "",
           "title": {
            "standoff": 15
           },
           "zerolinecolor": "white",
           "zerolinewidth": 2
          },
          "yaxis": {
           "automargin": true,
           "gridcolor": "white",
           "linecolor": "white",
           "ticks": "",
           "title": {
            "standoff": 15
           },
           "zerolinecolor": "white",
           "zerolinewidth": 2
          }
         }
        }
       }
      }
     },
     "metadata": {},
     "output_type": "display_data"
    }
   ],
   "source": [
    "da=df[(df['booking_rate']=='top 15%')&(df['minimum_nights_class']=='long')]\n",
    "distrik =pd.DataFrame(data=da.groupby('neighbourhood').count()['id']).reset_index()\n",
    "distrik['id']=distrik['id']/len(da)*100\n",
    "import plotly.express as px\n",
    "bangkok = r'Bangkok-districts.geojson'\n",
    "bangkok_loc = [13.7563,100.5018]\n",
    "fig = px.choropleth_mapbox(distrik, geojson=bangkok, color='id',\n",
    "                           locations='neighbourhood', featureidkey='properties.dname_e',\n",
    "                           center={'lat': 13.7563, 'lon': 100.5018},\n",
    "                           mapbox_style='open-street-map', zoom=10,\n",
    "                           labels={'id':'Persentase',\n",
    "                                    'neighbourhood': 'Ditrict'},color_continuous_scale='YlGnBu',opacity=0.7)\n",
    "fig.update_layout(margin={'r':0,'t':0,'l':0,'b':0})\n",
    "display(distrik.sort_values('id',ascending=False).head(5))\n",
    "fig.show()"
   ]
  },
  {
   "cell_type": "markdown",
   "metadata": {},
   "source": [
    "Didapatkan bahwa district dengan tingkat booking tertinggi untuk penyewa jangka panjang adalah :\n",
    "1. Vadhana\n",
    "2. Khlong Toei\n",
    "3. Bang Rak\n",
    "4. Huai Khwang\n",
    "5. Phra Khanong"
   ]
  },
  {
   "cell_type": "markdown",
   "metadata": {},
   "source": [
    "# 5. Saran dan Kesimpulan"
   ]
  },
  {
   "cell_type": "markdown",
   "metadata": {},
   "source": [
    "## 5.1. Kesimpulan"
   ]
  },
  {
   "cell_type": "markdown",
   "metadata": {},
   "source": [
    "### Statistika Deskriptif"
   ]
  },
  {
   "cell_type": "markdown",
   "metadata": {},
   "source": [
    "1. District dengan listing terbanyak berasal dari Khlong Toei yaitu sebesar 1.887 atau 13,06% dari total listing.\n",
    "2. Jenis kamar dengan listing terbanyak adalah tipe Entire home/apt yaitu sebesar 8.107 atau 56,10% dari total listing.\n",
    "3. Nama listing mayoritas menggunakan tulisan latin yaitu sebesar 12.609 atau 87,26% dari total listing.\n",
    "4. Listing mayoritas memiliki malam minimum sewa yang short yaitu sebesar 10.893 atau 75,38% dari total listing.\n",
    "5. Didapatkan bahwa seluruh variabel numerikal tidak terdistribusi normal dengan skewness positif.\n",
    "6. Terdapat hubungan berbanding lurus yang kuat yang antara variabel review per bulan, jumlah review, dan jumlah review 1 tahun terakhir."
   ]
  },
  {
   "cell_type": "markdown",
   "metadata": {},
   "source": [
    "### Analisis Harga"
   ]
  },
  {
   "cell_type": "markdown",
   "metadata": {},
   "source": [
    "1. Distrik mempengaruhi harga listing, distrik dengan median harga terbesar adalah distrik Parthum Wan\n",
    "2. Tipe kamar mempengaruhi harga listing, tipe rumah/apartemen memiliki median tertinggi diikuti dengan tipe kamar hotel namun dengan sebaran yang lebih kecil.\n",
    "3. Minimum malam sewa mempengaruhi harga listing, listing dengan minimum malam sewa pendek memiliki median harga yang lebih besar dan dengan sebaran yang lebih luas dibandingkan minimum malam sewa pendek."
   ]
  },
  {
   "cell_type": "markdown",
   "metadata": {},
   "source": [
    "### Analisis Tingkat Booking Tinggi"
   ]
  },
  {
   "cell_type": "markdown",
   "metadata": {},
   "source": [
    "1. Berdasarkan harga, penyewa jangka panjang maupun pendek memiliki preferensi untuk menyewa tempat dengan harga yang standard.\n",
    "2. Berdasarkan harga, penyewa jangka pendek lebih suka untuk memesan tempat dengan harga premium dibandingkan budget.\n",
    "3. Berdasarkan harga, penyewa jangka panjang lebih suka untuk memesan tempat dengan harga budget dibandingkan premium.\n",
    "4. Berdasarkan tipe kamar, penyewa jangka panjang lebih tidak suka untuk menyewa kamar yang berbagi tempat dengan orang lain yaitu shared room dan private room dibandingkan penyewa jangka pendek.\n",
    "4. Berdasarkan tipe kamar, penyewa jangka panjang maupun jangka pendek keduanya memiliki preferensi untuk menyewa tempat dengan tipe rumah/apartemen diikuti dengan private room, hotel room, dan yang terakhir shared room.\n",
    "5. Berdasarkan nama listing, penyewa jangka panjang maupun jangka pendek keduanya memiliki preferensi untuk menyewa listing dengan nama listing tulisan latin namun penyewa jangka panjang memiliki preferensi yang lebih besar terhadap nama listing non latin dibandingkan dengan penyewa jangka pendek.\n",
    "6. Berdasarkan distrik, lokasi dengan tingkat booking tertinggi untuk penyewa jangka pendek adalah Khlong Toei, Vadhana, Ratchathewi, Sathon, Bang Rak.\n",
    "7. Berdasarkan distrik, lokasi dengan tingkat booking tertinggi untuk penyewa jangka panjang adalah Vadhana,Khlong Toei,Bang Rak,Huai Khwang,Phra Khanong."
   ]
  },
  {
   "cell_type": "markdown",
   "metadata": {},
   "source": [
    "## 5.2. Saran"
   ]
  },
  {
   "cell_type": "markdown",
   "metadata": {},
   "source": [
    "### Saran untuk Host"
   ]
  },
  {
   "cell_type": "markdown",
   "metadata": {},
   "source": [
    "1. Untuk memaksimalkan harga, host dapat mengatur minimum malam sewa rendah, namun akan meningkatkan perawatan tempat. Dan sebaliknya untuk menurunkan perawatan tempat, host dapat meningkatkan minimum malam sewa, namun dengan harga yang lebih rendah.\n",
    "2. Apabila host memiliki tempat dengan kualitas yang diatas rata-rata lebih baik untuk mengatur minimum malam sewa yang rendah.\n",
    "3. Apabila host memiliki tempat dengan kualitas yang dibawah rata-rata lebih baik untuk mengatur minimum malam sewa yang tinggi.\n",
    "4. Apabila host memiliki tempat yang harus berbagi dengan orang lain seperti shared room dan private room lebih baik untuk mengatur minimum malam sewa yang rendah.\n",
    "5. Lebih baik bagi host untuk menulis nama listing dengan bahasa inggris.\n",
    "6. Apabila host ingin menentukan price untuk memaksimalkan booking gunakan harga diantara quartil 1 dan 3 atau lebih rendah berdasarkan daerah.\n",
    "7. Apabila host memiliki tempat di district Ratchathewi atau Sathon, disarankan untuk mengatur minimum malam sewa yang rendah.\n",
    "8. Apabila host memiliki tempat di district Huai Khwang atau Phra Khanong, disarankan untuk mengatur minimum malam sewa yang tinggi.\n"
   ]
  },
  {
   "cell_type": "markdown",
   "metadata": {},
   "source": [
    "### Saran untuk Airbnb"
   ]
  },
  {
   "cell_type": "markdown",
   "metadata": {},
   "source": [
    "1. Sediakan fitur penerjemah nama listing.\n",
    "2. Mendorong orang-orang yang memiliki tempat tinggal kosong untuk disewakan di daerah yang tingkat bookingnya tinggi.\n",
    "3. Menyediakan saran range harga dan minimum malam sewa kepada host berdasarkan lokasi.\n",
    "4. Menyediakan informasi jarak secara otomatis ke tempat-tempat wisata terdekat agar host tidak terlalu mengandalkan nama listing.\n"
   ]
  },
  {
   "cell_type": "code",
   "execution_count": 45,
   "metadata": {},
   "outputs": [],
   "source": [
    "df.to_excel('Airbnb Listings Bangkok_Clean.xlsx')"
   ]
  }
 ],
 "metadata": {
  "kernelspec": {
   "display_name": "Python 3",
   "language": "python",
   "name": "python3"
  },
  "language_info": {
   "codemirror_mode": {
    "name": "ipython",
    "version": 3
   },
   "file_extension": ".py",
   "mimetype": "text/x-python",
   "name": "python",
   "nbconvert_exporter": "python",
   "pygments_lexer": "ipython3",
   "version": "3.12.3"
  }
 },
 "nbformat": 4,
 "nbformat_minor": 2
}
